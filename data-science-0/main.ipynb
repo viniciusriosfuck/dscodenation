{
 "cells": [
  {
   "cell_type": "markdown",
   "metadata": {},
   "source": [
    "# Desafio 1\n",
    "\n",
    "Para esse desafio, vamos trabalhar com o data set [Black Friday](https://www.kaggle.com/mehdidag/black-friday), que reúne dados sobre transações de compras em uma loja de varejo.\n",
    "\n",
    "Vamos utilizá-lo para praticar a exploração de data sets utilizando pandas. Você pode fazer toda análise neste mesmo notebook, mas as resposta devem estar nos locais indicados.\n",
    "\n",
    "> Obs.: Por favor, não modifique o nome das funções de resposta."
   ]
  },
  {
   "cell_type": "markdown",
   "metadata": {},
   "source": [
    "## _Set up_ da análise"
   ]
  },
  {
   "cell_type": "code",
   "execution_count": 1,
   "metadata": {
    "ExecuteTime": {
     "end_time": "2020-07-30T18:10:30.391732Z",
     "start_time": "2020-07-30T18:10:28.960650Z"
    }
   },
   "outputs": [],
   "source": [
    "import pandas as pd\n",
    "import numpy as np\n",
    "from sklearn.preprocessing import MinMaxScaler, StandardScaler"
   ]
  },
  {
   "cell_type": "code",
   "execution_count": 2,
   "metadata": {
    "ExecuteTime": {
     "end_time": "2020-07-30T18:10:31.213779Z",
     "start_time": "2020-07-30T18:10:30.396732Z"
    }
   },
   "outputs": [],
   "source": [
    "df = pd.read_csv(\"black_friday.csv\")"
   ]
  },
  {
   "cell_type": "markdown",
   "metadata": {},
   "source": [
    "## Inicie sua análise a partir daqui"
   ]
  },
  {
   "cell_type": "code",
   "execution_count": null,
   "metadata": {},
   "outputs": [],
   "source": []
  },
  {
   "cell_type": "markdown",
   "metadata": {},
   "source": [
    "## Questão 1\n",
    "\n",
    "Quantas observações e quantas colunas há no dataset? Responda no formato de uma tuple `(n_observacoes, n_colunas)`."
   ]
  },
  {
   "cell_type": "code",
   "execution_count": 3,
   "metadata": {
    "ExecuteTime": {
     "end_time": "2020-07-30T18:10:31.221779Z",
     "start_time": "2020-07-30T18:10:31.216779Z"
    }
   },
   "outputs": [],
   "source": [
    "def q1():\n",
    "    return df.shape"
   ]
  },
  {
   "cell_type": "code",
   "execution_count": 4,
   "metadata": {
    "ExecuteTime": {
     "end_time": "2020-07-30T18:10:31.515796Z",
     "start_time": "2020-07-30T18:10:31.226780Z"
    }
   },
   "outputs": [
    {
     "data": {
      "text/plain": [
       "(537577, 12)"
      ]
     },
     "execution_count": 4,
     "metadata": {},
     "output_type": "execute_result"
    }
   ],
   "source": [
    "q1()"
   ]
  },
  {
   "cell_type": "markdown",
   "metadata": {},
   "source": [
    "## Questão 2\n",
    "\n",
    "Há quantas mulheres com idade entre 26 e 35 anos no dataset? Responda como um único escalar."
   ]
  },
  {
   "cell_type": "code",
   "execution_count": 5,
   "metadata": {
    "ExecuteTime": {
     "end_time": "2020-07-30T18:10:31.804813Z",
     "start_time": "2020-07-30T18:10:31.518796Z"
    }
   },
   "outputs": [],
   "source": [
    "def q2():\n",
    "    return len(\n",
    "        df[\n",
    "            (df['Gender'] == 'F')\n",
    "            & (df['Age'] == '26-35')\n",
    "        ]\n",
    "    )"
   ]
  },
  {
   "cell_type": "code",
   "execution_count": 6,
   "metadata": {
    "ExecuteTime": {
     "end_time": "2020-07-30T18:10:32.433849Z",
     "start_time": "2020-07-30T18:10:31.809813Z"
    }
   },
   "outputs": [
    {
     "data": {
      "text/plain": [
       "49348"
      ]
     },
     "execution_count": 6,
     "metadata": {},
     "output_type": "execute_result"
    }
   ],
   "source": [
    "q2()"
   ]
  },
  {
   "cell_type": "markdown",
   "metadata": {},
   "source": [
    "## Questão 3\n",
    "\n",
    "Quantos usuários únicos há no dataset? Responda como um único escalar."
   ]
  },
  {
   "cell_type": "code",
   "execution_count": 7,
   "metadata": {
    "ExecuteTime": {
     "end_time": "2020-07-30T18:10:32.779868Z",
     "start_time": "2020-07-30T18:10:32.440849Z"
    }
   },
   "outputs": [],
   "source": [
    "def q3():\n",
    "    return (\n",
    "        df['User_ID']\n",
    "        .nunique()\n",
    "    )"
   ]
  },
  {
   "cell_type": "code",
   "execution_count": 8,
   "metadata": {
    "ExecuteTime": {
     "end_time": "2020-07-30T18:10:33.073885Z",
     "start_time": "2020-07-30T18:10:32.783869Z"
    }
   },
   "outputs": [
    {
     "data": {
      "text/plain": [
       "5891"
      ]
     },
     "execution_count": 8,
     "metadata": {},
     "output_type": "execute_result"
    }
   ],
   "source": [
    "q3()"
   ]
  },
  {
   "cell_type": "markdown",
   "metadata": {},
   "source": [
    "## Questão 4\n",
    "\n",
    "Quantos tipos de dados diferentes existem no dataset? Responda como um único escalar."
   ]
  },
  {
   "cell_type": "code",
   "execution_count": 9,
   "metadata": {
    "ExecuteTime": {
     "end_time": "2020-07-30T18:10:33.359902Z",
     "start_time": "2020-07-30T18:10:33.076885Z"
    }
   },
   "outputs": [],
   "source": [
    "def q4():\n",
    "    return (\n",
    "        df\n",
    "        .dtypes\n",
    "        .nunique()\n",
    "    )"
   ]
  },
  {
   "cell_type": "code",
   "execution_count": 10,
   "metadata": {
    "ExecuteTime": {
     "end_time": "2020-07-30T18:10:33.681920Z",
     "start_time": "2020-07-30T18:10:33.362902Z"
    }
   },
   "outputs": [
    {
     "data": {
      "text/plain": [
       "3"
      ]
     },
     "execution_count": 10,
     "metadata": {},
     "output_type": "execute_result"
    }
   ],
   "source": [
    "q4()"
   ]
  },
  {
   "cell_type": "markdown",
   "metadata": {},
   "source": [
    "## Questão 5\n",
    "\n",
    "Qual porcentagem dos registros possui ao menos um valor null (`None`, `ǸaN` etc)? Responda como um único escalar entre 0 e 1."
   ]
  },
  {
   "cell_type": "code",
   "execution_count": 23,
   "metadata": {
    "ExecuteTime": {
     "end_time": "2020-07-30T18:12:33.438770Z",
     "start_time": "2020-07-30T18:12:33.428769Z"
    }
   },
   "outputs": [],
   "source": [
    "def q5():\n",
    "\n",
    "    return float(\n",
    "        (\n",
    "            df\n",
    "            .isna()\n",
    "            .sum(axis=1)\n",
    "            > 0\n",
    "        )\n",
    "        .mean()\n",
    "    )"
   ]
  },
  {
   "cell_type": "code",
   "execution_count": 24,
   "metadata": {
    "ExecuteTime": {
     "end_time": "2020-07-30T18:12:35.111865Z",
     "start_time": "2020-07-30T18:12:34.507831Z"
    }
   },
   "outputs": [
    {
     "data": {
      "text/plain": [
       "0.6944102891306734"
      ]
     },
     "execution_count": 24,
     "metadata": {},
     "output_type": "execute_result"
    }
   ],
   "source": [
    "q5()"
   ]
  },
  {
   "cell_type": "markdown",
   "metadata": {},
   "source": [
    "## Questão 6\n",
    "\n",
    "Quantos valores null existem na variável (coluna) com o maior número de null? Responda como um único escalar."
   ]
  },
  {
   "cell_type": "code",
   "execution_count": 13,
   "metadata": {
    "ExecuteTime": {
     "end_time": "2020-07-30T18:10:34.478966Z",
     "start_time": "2020-07-30T18:10:34.471965Z"
    }
   },
   "outputs": [],
   "source": [
    "def q6():\n",
    "    return int(\n",
    "        df\n",
    "        .isna()\n",
    "        .sum()\n",
    "        .max()\n",
    "    )"
   ]
  },
  {
   "cell_type": "code",
   "execution_count": 14,
   "metadata": {
    "ExecuteTime": {
     "end_time": "2020-07-30T18:10:35.025997Z",
     "start_time": "2020-07-30T18:10:34.482966Z"
    }
   },
   "outputs": [
    {
     "data": {
      "text/plain": [
       "373299"
      ]
     },
     "execution_count": 14,
     "metadata": {},
     "output_type": "execute_result"
    }
   ],
   "source": [
    "q6()"
   ]
  },
  {
   "cell_type": "markdown",
   "metadata": {},
   "source": [
    "## Questão 7\n",
    "\n",
    "Qual o valor mais frequente (sem contar nulls) em `Product_Category_3`? Responda como um único escalar."
   ]
  },
  {
   "cell_type": "code",
   "execution_count": 15,
   "metadata": {
    "ExecuteTime": {
     "end_time": "2020-07-30T18:10:35.213008Z",
     "start_time": "2020-07-30T18:10:35.029997Z"
    }
   },
   "outputs": [],
   "source": [
    "def q7():\n",
    "    return float(\n",
    "        df['Product_Category_3']\n",
    "        .mode()\n",
    "    )"
   ]
  },
  {
   "cell_type": "code",
   "execution_count": 16,
   "metadata": {
    "ExecuteTime": {
     "end_time": "2020-07-30T18:10:35.464022Z",
     "start_time": "2020-07-30T18:10:35.216008Z"
    }
   },
   "outputs": [
    {
     "data": {
      "text/plain": [
       "16.0"
      ]
     },
     "execution_count": 16,
     "metadata": {},
     "output_type": "execute_result"
    }
   ],
   "source": [
    "q7()"
   ]
  },
  {
   "cell_type": "markdown",
   "metadata": {},
   "source": [
    "## Questão 8\n",
    "\n",
    "Qual a nova média da variável (coluna) `Purchase` após sua normalização? Responda como um único escalar."
   ]
  },
  {
   "cell_type": "code",
   "execution_count": 17,
   "metadata": {
    "ExecuteTime": {
     "end_time": "2020-07-30T18:10:35.780040Z",
     "start_time": "2020-07-30T18:10:35.466022Z"
    }
   },
   "outputs": [],
   "source": [
    "def q8():\n",
    "    scaler = MinMaxScaler()\n",
    "    \n",
    "    return float(\n",
    "        scaler.fit_transform(df[['Purchase']])\n",
    "        .mean()\n",
    "    )"
   ]
  },
  {
   "cell_type": "code",
   "execution_count": 18,
   "metadata": {
    "ExecuteTime": {
     "end_time": "2020-07-30T18:10:36.135060Z",
     "start_time": "2020-07-30T18:10:35.783040Z"
    }
   },
   "outputs": [
    {
     "data": {
      "text/plain": [
       "0.3847939036269795"
      ]
     },
     "execution_count": 18,
     "metadata": {},
     "output_type": "execute_result"
    }
   ],
   "source": [
    "q8()"
   ]
  },
  {
   "cell_type": "markdown",
   "metadata": {},
   "source": [
    "## Questão 9\n",
    "\n",
    "Quantas ocorrências entre -1 e 1 inclusive existem da variável `Purchase` após sua padronização? Responda como um único escalar."
   ]
  },
  {
   "cell_type": "code",
   "execution_count": 19,
   "metadata": {
    "ExecuteTime": {
     "end_time": "2020-07-30T18:10:36.450078Z",
     "start_time": "2020-07-30T18:10:36.138061Z"
    },
    "code_folding": []
   },
   "outputs": [],
   "source": [
    "def q9():\n",
    "    scaler = StandardScaler()\n",
    "    \n",
    "    nr_lt_1std = int(\n",
    "        pd.Series(\n",
    "        scaler.fit_transform(df[['Purchase']])[:,0])\n",
    "        .between(-1.0, 1.0)\n",
    "        .sum()\n",
    "    )\n",
    "   \n",
    "    return nr_lt_1std"
   ]
  },
  {
   "cell_type": "code",
   "execution_count": 20,
   "metadata": {
    "ExecuteTime": {
     "end_time": "2020-07-30T18:10:36.816099Z",
     "start_time": "2020-07-30T18:10:36.453079Z"
    }
   },
   "outputs": [
    {
     "data": {
      "text/plain": [
       "348631"
      ]
     },
     "execution_count": 20,
     "metadata": {},
     "output_type": "execute_result"
    }
   ],
   "source": [
    "q9()"
   ]
  },
  {
   "cell_type": "markdown",
   "metadata": {},
   "source": [
    "## Questão 10\n",
    "\n",
    "Podemos afirmar que se uma observação é null em `Product_Category_2` ela também o é em `Product_Category_3`? Responda com um bool (`True`, `False`)."
   ]
  },
  {
   "cell_type": "code",
   "execution_count": 21,
   "metadata": {
    "ExecuteTime": {
     "end_time": "2020-07-30T18:10:37.117117Z",
     "start_time": "2020-07-30T18:10:36.820100Z"
    }
   },
   "outputs": [],
   "source": [
    "def q10():\n",
    "    return (\n",
    "        df['Product_Category_3']\n",
    "        .loc[df['Product_Category_2'].isnull()]\n",
    "        .isnull().all() == True\n",
    "    )"
   ]
  },
  {
   "cell_type": "code",
   "execution_count": 22,
   "metadata": {
    "ExecuteTime": {
     "end_time": "2020-07-30T18:10:37.563142Z",
     "start_time": "2020-07-30T18:10:37.125117Z"
    }
   },
   "outputs": [
    {
     "data": {
      "text/plain": [
       "True"
      ]
     },
     "execution_count": 22,
     "metadata": {},
     "output_type": "execute_result"
    }
   ],
   "source": [
    "q10()"
   ]
  }
 ],
 "metadata": {
  "kernelspec": {
   "display_name": "Python 3",
   "language": "python",
   "name": "python3"
  },
  "language_info": {
   "codemirror_mode": {
    "name": "ipython",
    "version": 3
   },
   "file_extension": ".py",
   "mimetype": "text/x-python",
   "name": "python",
   "nbconvert_exporter": "python",
   "pygments_lexer": "ipython3",
   "version": "3.7.7"
  },
  "toc": {
   "base_numbering": 1,
   "nav_menu": {},
   "number_sections": true,
   "sideBar": true,
   "skip_h1_title": false,
   "title_cell": "Table of Contents",
   "title_sidebar": "Contents",
   "toc_cell": false,
   "toc_position": {},
   "toc_section_display": true,
   "toc_window_display": false
  },
  "varInspector": {
   "cols": {
    "lenName": 16,
    "lenType": 16,
    "lenVar": 40
   },
   "kernels_config": {
    "python": {
     "delete_cmd_postfix": "",
     "delete_cmd_prefix": "del ",
     "library": "var_list.py",
     "varRefreshCmd": "print(var_dic_list())"
    },
    "r": {
     "delete_cmd_postfix": ") ",
     "delete_cmd_prefix": "rm(",
     "library": "var_list.r",
     "varRefreshCmd": "cat(var_dic_list()) "
    }
   },
   "types_to_exclude": [
    "module",
    "function",
    "builtin_function_or_method",
    "instance",
    "_Feature"
   ],
   "window_display": false
  }
 },
 "nbformat": 4,
 "nbformat_minor": 2
}
