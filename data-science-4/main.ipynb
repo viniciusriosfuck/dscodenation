{
 "cells": [
  {
   "cell_type": "markdown",
   "metadata": {},
   "source": [
    "# Desafio 6\n",
    "\n",
    "Neste desafio, vamos praticar _feature engineering_, um dos processos mais importantes e trabalhosos de ML. Utilizaremos o _data set_ [Countries of the world](https://www.kaggle.com/fernandol/countries-of-the-world), que contém dados sobre os 227 países do mundo com informações sobre tamanho da população, área, imigração e setores de produção.\n",
    "\n",
    "> Obs.: Por favor, não modifique o nome das funções de resposta."
   ]
  },
  {
   "cell_type": "markdown",
   "metadata": {},
   "source": [
    "## _Setup_ geral"
   ]
  },
  {
   "cell_type": "code",
   "execution_count": 1,
   "metadata": {
    "ExecuteTime": {
     "end_time": "2020-07-22T10:08:40.571974Z",
     "start_time": "2020-07-22T10:08:38.625863Z"
    }
   },
   "outputs": [],
   "source": [
    "import pandas as pd\n",
    "import numpy as np\n",
    "import seaborn as sns\n",
    "import sklearn as sk\n",
    "import matplotlib.pyplot as plt\n",
    "\n",
    "from sklearn import preprocessing"
   ]
  },
  {
   "cell_type": "code",
   "execution_count": 2,
   "metadata": {
    "ExecuteTime": {
     "end_time": "2020-07-22T10:08:40.583975Z",
     "start_time": "2020-07-22T10:08:40.575974Z"
    }
   },
   "outputs": [],
   "source": [
    "# Algumas configurações para o matplotlib.\n",
    "# %matplotlib inline\n",
    "\n",
    "from IPython.core.pylabtools import figsize\n",
    "\n",
    "\n",
    "figsize(12, 8)\n",
    "\n",
    "sns.set()"
   ]
  },
  {
   "cell_type": "code",
   "execution_count": 3,
   "metadata": {
    "ExecuteTime": {
     "end_time": "2020-07-22T10:08:40.822988Z",
     "start_time": "2020-07-22T10:08:40.586975Z"
    },
    "scrolled": false
   },
   "outputs": [],
   "source": [
    "countries = pd.read_csv(\"countries.csv\")"
   ]
  },
  {
   "cell_type": "code",
   "execution_count": 4,
   "metadata": {
    "ExecuteTime": {
     "end_time": "2020-07-22T10:08:40.951996Z",
     "start_time": "2020-07-22T10:08:40.826989Z"
    }
   },
   "outputs": [
    {
     "data": {
      "text/html": [
       "<div>\n",
       "<style scoped>\n",
       "    .dataframe tbody tr th:only-of-type {\n",
       "        vertical-align: middle;\n",
       "    }\n",
       "\n",
       "    .dataframe tbody tr th {\n",
       "        vertical-align: top;\n",
       "    }\n",
       "\n",
       "    .dataframe thead th {\n",
       "        text-align: right;\n",
       "    }\n",
       "</style>\n",
       "<table border=\"1\" class=\"dataframe\">\n",
       "  <thead>\n",
       "    <tr style=\"text-align: right;\">\n",
       "      <th></th>\n",
       "      <th>Country</th>\n",
       "      <th>Region</th>\n",
       "      <th>Population</th>\n",
       "      <th>Area</th>\n",
       "      <th>Pop_density</th>\n",
       "      <th>Coastline_ratio</th>\n",
       "      <th>Net_migration</th>\n",
       "      <th>Infant_mortality</th>\n",
       "      <th>GDP</th>\n",
       "      <th>Literacy</th>\n",
       "      <th>Phones_per_1000</th>\n",
       "      <th>Arable</th>\n",
       "      <th>Crops</th>\n",
       "      <th>Other</th>\n",
       "      <th>Climate</th>\n",
       "      <th>Birthrate</th>\n",
       "      <th>Deathrate</th>\n",
       "      <th>Agriculture</th>\n",
       "      <th>Industry</th>\n",
       "      <th>Service</th>\n",
       "    </tr>\n",
       "  </thead>\n",
       "  <tbody>\n",
       "    <tr>\n",
       "      <th>0</th>\n",
       "      <td>Afghanistan</td>\n",
       "      <td>ASIA (EX. NEAR EAST)</td>\n",
       "      <td>31056997</td>\n",
       "      <td>647500</td>\n",
       "      <td>48,0</td>\n",
       "      <td>0,00</td>\n",
       "      <td>23,06</td>\n",
       "      <td>163,07</td>\n",
       "      <td>700.0</td>\n",
       "      <td>36,0</td>\n",
       "      <td>3,2</td>\n",
       "      <td>12,13</td>\n",
       "      <td>0,22</td>\n",
       "      <td>87,65</td>\n",
       "      <td>1</td>\n",
       "      <td>46,6</td>\n",
       "      <td>20,34</td>\n",
       "      <td>0,38</td>\n",
       "      <td>0,24</td>\n",
       "      <td>0,38</td>\n",
       "    </tr>\n",
       "    <tr>\n",
       "      <th>1</th>\n",
       "      <td>Albania</td>\n",
       "      <td>EASTERN EUROPE</td>\n",
       "      <td>3581655</td>\n",
       "      <td>28748</td>\n",
       "      <td>124,6</td>\n",
       "      <td>1,26</td>\n",
       "      <td>-4,93</td>\n",
       "      <td>21,52</td>\n",
       "      <td>4500.0</td>\n",
       "      <td>86,5</td>\n",
       "      <td>71,2</td>\n",
       "      <td>21,09</td>\n",
       "      <td>4,42</td>\n",
       "      <td>74,49</td>\n",
       "      <td>3</td>\n",
       "      <td>15,11</td>\n",
       "      <td>5,22</td>\n",
       "      <td>0,232</td>\n",
       "      <td>0,188</td>\n",
       "      <td>0,579</td>\n",
       "    </tr>\n",
       "    <tr>\n",
       "      <th>2</th>\n",
       "      <td>Algeria</td>\n",
       "      <td>NORTHERN AFRICA</td>\n",
       "      <td>32930091</td>\n",
       "      <td>2381740</td>\n",
       "      <td>13,8</td>\n",
       "      <td>0,04</td>\n",
       "      <td>-0,39</td>\n",
       "      <td>31</td>\n",
       "      <td>6000.0</td>\n",
       "      <td>70,0</td>\n",
       "      <td>78,1</td>\n",
       "      <td>3,22</td>\n",
       "      <td>0,25</td>\n",
       "      <td>96,53</td>\n",
       "      <td>1</td>\n",
       "      <td>17,14</td>\n",
       "      <td>4,61</td>\n",
       "      <td>0,101</td>\n",
       "      <td>0,6</td>\n",
       "      <td>0,298</td>\n",
       "    </tr>\n",
       "    <tr>\n",
       "      <th>3</th>\n",
       "      <td>American Samoa</td>\n",
       "      <td>OCEANIA</td>\n",
       "      <td>57794</td>\n",
       "      <td>199</td>\n",
       "      <td>290,4</td>\n",
       "      <td>58,29</td>\n",
       "      <td>-20,71</td>\n",
       "      <td>9,27</td>\n",
       "      <td>8000.0</td>\n",
       "      <td>97,0</td>\n",
       "      <td>259,5</td>\n",
       "      <td>10</td>\n",
       "      <td>15</td>\n",
       "      <td>75</td>\n",
       "      <td>2</td>\n",
       "      <td>22,46</td>\n",
       "      <td>3,27</td>\n",
       "      <td>NaN</td>\n",
       "      <td>NaN</td>\n",
       "      <td>NaN</td>\n",
       "    </tr>\n",
       "    <tr>\n",
       "      <th>4</th>\n",
       "      <td>Andorra</td>\n",
       "      <td>WESTERN EUROPE</td>\n",
       "      <td>71201</td>\n",
       "      <td>468</td>\n",
       "      <td>152,1</td>\n",
       "      <td>0,00</td>\n",
       "      <td>6,6</td>\n",
       "      <td>4,05</td>\n",
       "      <td>19000.0</td>\n",
       "      <td>100,0</td>\n",
       "      <td>497,2</td>\n",
       "      <td>2,22</td>\n",
       "      <td>0</td>\n",
       "      <td>97,78</td>\n",
       "      <td>3</td>\n",
       "      <td>8,71</td>\n",
       "      <td>6,25</td>\n",
       "      <td>NaN</td>\n",
       "      <td>NaN</td>\n",
       "      <td>NaN</td>\n",
       "    </tr>\n",
       "  </tbody>\n",
       "</table>\n",
       "</div>"
      ],
      "text/plain": [
       "           Country                               Region  Population     Area  \\\n",
       "0     Afghanistan         ASIA (EX. NEAR EAST)             31056997   647500   \n",
       "1         Albania   EASTERN EUROPE                          3581655    28748   \n",
       "2         Algeria   NORTHERN AFRICA                        32930091  2381740   \n",
       "3  American Samoa   OCEANIA                                   57794      199   \n",
       "4         Andorra   WESTERN EUROPE                            71201      468   \n",
       "\n",
       "  Pop_density Coastline_ratio Net_migration Infant_mortality      GDP  \\\n",
       "0        48,0            0,00         23,06           163,07    700.0   \n",
       "1       124,6            1,26         -4,93            21,52   4500.0   \n",
       "2        13,8            0,04         -0,39               31   6000.0   \n",
       "3       290,4           58,29        -20,71             9,27   8000.0   \n",
       "4       152,1            0,00           6,6             4,05  19000.0   \n",
       "\n",
       "  Literacy Phones_per_1000 Arable Crops  Other Climate Birthrate Deathrate  \\\n",
       "0     36,0             3,2  12,13  0,22  87,65       1      46,6     20,34   \n",
       "1     86,5            71,2  21,09  4,42  74,49       3     15,11      5,22   \n",
       "2     70,0            78,1   3,22  0,25  96,53       1     17,14      4,61   \n",
       "3     97,0           259,5     10    15     75       2     22,46      3,27   \n",
       "4    100,0           497,2   2,22     0  97,78       3      8,71      6,25   \n",
       "\n",
       "  Agriculture Industry Service  \n",
       "0        0,38     0,24    0,38  \n",
       "1       0,232    0,188   0,579  \n",
       "2       0,101      0,6   0,298  \n",
       "3         NaN      NaN     NaN  \n",
       "4         NaN      NaN     NaN  "
      ]
     },
     "execution_count": 4,
     "metadata": {},
     "output_type": "execute_result"
    }
   ],
   "source": [
    "new_column_names = [\n",
    "    \"Country\", \"Region\", \"Population\", \"Area\", \"Pop_density\", \"Coastline_ratio\",\n",
    "    \"Net_migration\", \"Infant_mortality\", \"GDP\", \"Literacy\", \"Phones_per_1000\",\n",
    "    \"Arable\", \"Crops\", \"Other\", \"Climate\", \"Birthrate\", \"Deathrate\", \"Agriculture\",\n",
    "    \"Industry\", \"Service\"\n",
    "]\n",
    "\n",
    "countries.columns = new_column_names\n",
    "\n",
    "countries.head(5)"
   ]
  },
  {
   "cell_type": "markdown",
   "metadata": {},
   "source": [
    "## Observações\n",
    "\n",
    "Esse _data set_ ainda precisa de alguns ajustes iniciais. Primeiro, note que as variáveis numéricas estão usando vírgula como separador decimal e estão codificadas como strings. Corrija isso antes de continuar: transforme essas variáveis em numéricas adequadamente.\n",
    "\n",
    "Além disso, as variáveis `Country` e `Region` possuem espaços a mais no começo e no final da string. Você pode utilizar o método `str.strip()` para remover esses espaços."
   ]
  },
  {
   "cell_type": "code",
   "execution_count": 5,
   "metadata": {
    "ExecuteTime": {
     "end_time": "2020-07-22T10:08:41.196010Z",
     "start_time": "2020-07-22T10:08:40.954996Z"
    }
   },
   "outputs": [
    {
     "data": {
      "text/plain": [
       "array(['ASIA (EX. NEAR EAST)         ',\n",
       "       'BALTICS                            ', 'C.W. OF IND. STATES ',\n",
       "       'EASTERN EUROPE                     ', 'LATIN AMER. & CARIB    ',\n",
       "       'NEAR EAST                          ',\n",
       "       'NORTHERN AFRICA                    ',\n",
       "       'NORTHERN AMERICA                   ',\n",
       "       'OCEANIA                            ',\n",
       "       'SUB-SAHARAN AFRICA                 ',\n",
       "       'WESTERN EUROPE                     '], dtype=object)"
      ]
     },
     "execution_count": 5,
     "metadata": {},
     "output_type": "execute_result"
    }
   ],
   "source": [
    "np.sort(countries[\"Region\"].unique())"
   ]
  },
  {
   "cell_type": "code",
   "execution_count": 6,
   "metadata": {
    "ExecuteTime": {
     "end_time": "2020-07-22T10:08:41.382020Z",
     "start_time": "2020-07-22T10:08:41.198010Z"
    }
   },
   "outputs": [
    {
     "name": "stdout",
     "output_type": "stream",
     "text": [
      "<class 'pandas.core.frame.DataFrame'>\n",
      "RangeIndex: 227 entries, 0 to 226\n",
      "Data columns (total 20 columns):\n",
      "Country             227 non-null object\n",
      "Region              227 non-null object\n",
      "Population          227 non-null int64\n",
      "Area                227 non-null int64\n",
      "Pop_density         227 non-null object\n",
      "Coastline_ratio     227 non-null object\n",
      "Net_migration       224 non-null object\n",
      "Infant_mortality    224 non-null object\n",
      "GDP                 226 non-null float64\n",
      "Literacy            209 non-null object\n",
      "Phones_per_1000     223 non-null object\n",
      "Arable              225 non-null object\n",
      "Crops               225 non-null object\n",
      "Other               225 non-null object\n",
      "Climate             205 non-null object\n",
      "Birthrate           224 non-null object\n",
      "Deathrate           223 non-null object\n",
      "Agriculture         212 non-null object\n",
      "Industry            211 non-null object\n",
      "Service             212 non-null object\n",
      "dtypes: float64(1), int64(2), object(17)\n",
      "memory usage: 35.5+ KB\n"
     ]
    }
   ],
   "source": [
    "countries.info()"
   ]
  },
  {
   "cell_type": "code",
   "execution_count": 7,
   "metadata": {
    "ExecuteTime": {
     "end_time": "2020-07-22T10:08:41.589032Z",
     "start_time": "2020-07-22T10:08:41.388021Z"
    }
   },
   "outputs": [],
   "source": [
    "for col in new_column_names:\n",
    "    try:\n",
    "        countries[col] = countries[col].str.strip()  # trim leading spaces\n",
    "        countries[col] = countries[col].str.replace(',','.').astype(float)\n",
    "    except:\n",
    "        pass\n"
   ]
  },
  {
   "cell_type": "markdown",
   "metadata": {},
   "source": [
    "A transformação pode ser constatada com"
   ]
  },
  {
   "cell_type": "code",
   "execution_count": 8,
   "metadata": {
    "ExecuteTime": {
     "end_time": "2020-07-22T10:08:41.846047Z",
     "start_time": "2020-07-22T10:08:41.594033Z"
    },
    "scrolled": true
   },
   "outputs": [
    {
     "data": {
      "text/html": [
       "<div>\n",
       "<style scoped>\n",
       "    .dataframe tbody tr th:only-of-type {\n",
       "        vertical-align: middle;\n",
       "    }\n",
       "\n",
       "    .dataframe tbody tr th {\n",
       "        vertical-align: top;\n",
       "    }\n",
       "\n",
       "    .dataframe thead th {\n",
       "        text-align: right;\n",
       "    }\n",
       "</style>\n",
       "<table border=\"1\" class=\"dataframe\">\n",
       "  <thead>\n",
       "    <tr style=\"text-align: right;\">\n",
       "      <th></th>\n",
       "      <th>Country</th>\n",
       "      <th>Region</th>\n",
       "      <th>Population</th>\n",
       "      <th>Area</th>\n",
       "      <th>Pop_density</th>\n",
       "      <th>Coastline_ratio</th>\n",
       "      <th>Net_migration</th>\n",
       "      <th>Infant_mortality</th>\n",
       "      <th>GDP</th>\n",
       "      <th>Literacy</th>\n",
       "      <th>Phones_per_1000</th>\n",
       "      <th>Arable</th>\n",
       "      <th>Crops</th>\n",
       "      <th>Other</th>\n",
       "      <th>Climate</th>\n",
       "      <th>Birthrate</th>\n",
       "      <th>Deathrate</th>\n",
       "      <th>Agriculture</th>\n",
       "      <th>Industry</th>\n",
       "      <th>Service</th>\n",
       "    </tr>\n",
       "  </thead>\n",
       "  <tbody>\n",
       "    <tr>\n",
       "      <th>0</th>\n",
       "      <td>Afghanistan</td>\n",
       "      <td>ASIA (EX. NEAR EAST)</td>\n",
       "      <td>31056997</td>\n",
       "      <td>647500</td>\n",
       "      <td>48.0</td>\n",
       "      <td>0.00</td>\n",
       "      <td>23.06</td>\n",
       "      <td>163.07</td>\n",
       "      <td>700.0</td>\n",
       "      <td>36.0</td>\n",
       "      <td>3.2</td>\n",
       "      <td>12.13</td>\n",
       "      <td>0.22</td>\n",
       "      <td>87.65</td>\n",
       "      <td>1.0</td>\n",
       "      <td>46.60</td>\n",
       "      <td>20.34</td>\n",
       "      <td>0.380</td>\n",
       "      <td>0.240</td>\n",
       "      <td>0.380</td>\n",
       "    </tr>\n",
       "    <tr>\n",
       "      <th>1</th>\n",
       "      <td>Albania</td>\n",
       "      <td>EASTERN EUROPE</td>\n",
       "      <td>3581655</td>\n",
       "      <td>28748</td>\n",
       "      <td>124.6</td>\n",
       "      <td>1.26</td>\n",
       "      <td>-4.93</td>\n",
       "      <td>21.52</td>\n",
       "      <td>4500.0</td>\n",
       "      <td>86.5</td>\n",
       "      <td>71.2</td>\n",
       "      <td>21.09</td>\n",
       "      <td>4.42</td>\n",
       "      <td>74.49</td>\n",
       "      <td>3.0</td>\n",
       "      <td>15.11</td>\n",
       "      <td>5.22</td>\n",
       "      <td>0.232</td>\n",
       "      <td>0.188</td>\n",
       "      <td>0.579</td>\n",
       "    </tr>\n",
       "    <tr>\n",
       "      <th>2</th>\n",
       "      <td>Algeria</td>\n",
       "      <td>NORTHERN AFRICA</td>\n",
       "      <td>32930091</td>\n",
       "      <td>2381740</td>\n",
       "      <td>13.8</td>\n",
       "      <td>0.04</td>\n",
       "      <td>-0.39</td>\n",
       "      <td>31.00</td>\n",
       "      <td>6000.0</td>\n",
       "      <td>70.0</td>\n",
       "      <td>78.1</td>\n",
       "      <td>3.22</td>\n",
       "      <td>0.25</td>\n",
       "      <td>96.53</td>\n",
       "      <td>1.0</td>\n",
       "      <td>17.14</td>\n",
       "      <td>4.61</td>\n",
       "      <td>0.101</td>\n",
       "      <td>0.600</td>\n",
       "      <td>0.298</td>\n",
       "    </tr>\n",
       "    <tr>\n",
       "      <th>3</th>\n",
       "      <td>American Samoa</td>\n",
       "      <td>OCEANIA</td>\n",
       "      <td>57794</td>\n",
       "      <td>199</td>\n",
       "      <td>290.4</td>\n",
       "      <td>58.29</td>\n",
       "      <td>-20.71</td>\n",
       "      <td>9.27</td>\n",
       "      <td>8000.0</td>\n",
       "      <td>97.0</td>\n",
       "      <td>259.5</td>\n",
       "      <td>10.00</td>\n",
       "      <td>15.00</td>\n",
       "      <td>75.00</td>\n",
       "      <td>2.0</td>\n",
       "      <td>22.46</td>\n",
       "      <td>3.27</td>\n",
       "      <td>NaN</td>\n",
       "      <td>NaN</td>\n",
       "      <td>NaN</td>\n",
       "    </tr>\n",
       "    <tr>\n",
       "      <th>4</th>\n",
       "      <td>Andorra</td>\n",
       "      <td>WESTERN EUROPE</td>\n",
       "      <td>71201</td>\n",
       "      <td>468</td>\n",
       "      <td>152.1</td>\n",
       "      <td>0.00</td>\n",
       "      <td>6.60</td>\n",
       "      <td>4.05</td>\n",
       "      <td>19000.0</td>\n",
       "      <td>100.0</td>\n",
       "      <td>497.2</td>\n",
       "      <td>2.22</td>\n",
       "      <td>0.00</td>\n",
       "      <td>97.78</td>\n",
       "      <td>3.0</td>\n",
       "      <td>8.71</td>\n",
       "      <td>6.25</td>\n",
       "      <td>NaN</td>\n",
       "      <td>NaN</td>\n",
       "      <td>NaN</td>\n",
       "    </tr>\n",
       "  </tbody>\n",
       "</table>\n",
       "</div>"
      ],
      "text/plain": [
       "          Country                Region  Population     Area  Pop_density  \\\n",
       "0     Afghanistan  ASIA (EX. NEAR EAST)    31056997   647500         48.0   \n",
       "1         Albania        EASTERN EUROPE     3581655    28748        124.6   \n",
       "2         Algeria       NORTHERN AFRICA    32930091  2381740         13.8   \n",
       "3  American Samoa               OCEANIA       57794      199        290.4   \n",
       "4         Andorra        WESTERN EUROPE       71201      468        152.1   \n",
       "\n",
       "   Coastline_ratio  Net_migration  Infant_mortality      GDP  Literacy  \\\n",
       "0             0.00          23.06            163.07    700.0      36.0   \n",
       "1             1.26          -4.93             21.52   4500.0      86.5   \n",
       "2             0.04          -0.39             31.00   6000.0      70.0   \n",
       "3            58.29         -20.71              9.27   8000.0      97.0   \n",
       "4             0.00           6.60              4.05  19000.0     100.0   \n",
       "\n",
       "   Phones_per_1000  Arable  Crops  Other  Climate  Birthrate  Deathrate  \\\n",
       "0              3.2   12.13   0.22  87.65      1.0      46.60      20.34   \n",
       "1             71.2   21.09   4.42  74.49      3.0      15.11       5.22   \n",
       "2             78.1    3.22   0.25  96.53      1.0      17.14       4.61   \n",
       "3            259.5   10.00  15.00  75.00      2.0      22.46       3.27   \n",
       "4            497.2    2.22   0.00  97.78      3.0       8.71       6.25   \n",
       "\n",
       "   Agriculture  Industry  Service  \n",
       "0        0.380     0.240    0.380  \n",
       "1        0.232     0.188    0.579  \n",
       "2        0.101     0.600    0.298  \n",
       "3          NaN       NaN      NaN  \n",
       "4          NaN       NaN      NaN  "
      ]
     },
     "execution_count": 8,
     "metadata": {},
     "output_type": "execute_result"
    }
   ],
   "source": [
    "countries.head()"
   ]
  },
  {
   "cell_type": "code",
   "execution_count": 9,
   "metadata": {
    "ExecuteTime": {
     "end_time": "2020-07-22T10:08:42.017057Z",
     "start_time": "2020-07-22T10:08:41.849047Z"
    }
   },
   "outputs": [
    {
     "data": {
      "text/plain": [
       "array(['ASIA (EX. NEAR EAST)', 'BALTICS', 'C.W. OF IND. STATES',\n",
       "       'EASTERN EUROPE', 'LATIN AMER. & CARIB', 'NEAR EAST',\n",
       "       'NORTHERN AFRICA', 'NORTHERN AMERICA', 'OCEANIA',\n",
       "       'SUB-SAHARAN AFRICA', 'WESTERN EUROPE'], dtype=object)"
      ]
     },
     "execution_count": 9,
     "metadata": {},
     "output_type": "execute_result"
    }
   ],
   "source": [
    "np.sort(countries[\"Region\"].unique())"
   ]
  },
  {
   "cell_type": "code",
   "execution_count": 10,
   "metadata": {
    "ExecuteTime": {
     "end_time": "2020-07-22T10:08:42.292072Z",
     "start_time": "2020-07-22T10:08:42.020057Z"
    }
   },
   "outputs": [
    {
     "name": "stdout",
     "output_type": "stream",
     "text": [
      "<class 'pandas.core.frame.DataFrame'>\n",
      "RangeIndex: 227 entries, 0 to 226\n",
      "Data columns (total 20 columns):\n",
      "Country             227 non-null object\n",
      "Region              227 non-null object\n",
      "Population          227 non-null int64\n",
      "Area                227 non-null int64\n",
      "Pop_density         227 non-null float64\n",
      "Coastline_ratio     227 non-null float64\n",
      "Net_migration       224 non-null float64\n",
      "Infant_mortality    224 non-null float64\n",
      "GDP                 226 non-null float64\n",
      "Literacy            209 non-null float64\n",
      "Phones_per_1000     223 non-null float64\n",
      "Arable              225 non-null float64\n",
      "Crops               225 non-null float64\n",
      "Other               225 non-null float64\n",
      "Climate             205 non-null float64\n",
      "Birthrate           224 non-null float64\n",
      "Deathrate           223 non-null float64\n",
      "Agriculture         212 non-null float64\n",
      "Industry            211 non-null float64\n",
      "Service             212 non-null float64\n",
      "dtypes: float64(16), int64(2), object(2)\n",
      "memory usage: 35.5+ KB\n"
     ]
    }
   ],
   "source": [
    "countries.info()"
   ]
  },
  {
   "cell_type": "markdown",
   "metadata": {},
   "source": [
    "## Inicia sua análise a partir daqui"
   ]
  },
  {
   "cell_type": "markdown",
   "metadata": {},
   "source": [
    "O data_set conta com 20 variáveis de 227 países, sendo\n",
    "* 2 variáveis `object` (string)\n",
    "* 2 variáveis `int64`\n",
    "* 16 variáveis `float64`\n"
   ]
  },
  {
   "cell_type": "markdown",
   "metadata": {},
   "source": [
    "As variáveis faltantes por categoria são:"
   ]
  },
  {
   "cell_type": "code",
   "execution_count": 11,
   "metadata": {
    "ExecuteTime": {
     "end_time": "2020-07-22T10:08:42.466082Z",
     "start_time": "2020-07-22T10:08:42.295073Z"
    }
   },
   "outputs": [
    {
     "data": {
      "text/plain": [
       "Country              0\n",
       "Region               0\n",
       "Population           0\n",
       "Area                 0\n",
       "Pop_density          0\n",
       "Coastline_ratio      0\n",
       "Net_migration        3\n",
       "Infant_mortality     3\n",
       "GDP                  1\n",
       "Literacy            18\n",
       "Phones_per_1000      4\n",
       "Arable               2\n",
       "Crops                2\n",
       "Other                2\n",
       "Climate             22\n",
       "Birthrate            3\n",
       "Deathrate            4\n",
       "Agriculture         15\n",
       "Industry            16\n",
       "Service             15\n",
       "dtype: int64"
      ]
     },
     "execution_count": 11,
     "metadata": {},
     "output_type": "execute_result"
    }
   ],
   "source": [
    "countries.isna().sum()"
   ]
  },
  {
   "cell_type": "markdown",
   "metadata": {},
   "source": [
    "As quantidades de valores únicos por categoria são:"
   ]
  },
  {
   "cell_type": "code",
   "execution_count": 12,
   "metadata": {
    "ExecuteTime": {
     "end_time": "2020-07-22T10:08:42.751099Z",
     "start_time": "2020-07-22T10:08:42.470083Z"
    }
   },
   "outputs": [
    {
     "data": {
      "text/plain": [
       "Country             227\n",
       "Region               11\n",
       "Population          227\n",
       "Area                226\n",
       "Pop_density         219\n",
       "Coastline_ratio     151\n",
       "Net_migration       157\n",
       "Infant_mortality    220\n",
       "GDP                 130\n",
       "Literacy            140\n",
       "Phones_per_1000     214\n",
       "Arable              203\n",
       "Crops               162\n",
       "Other               209\n",
       "Climate               6\n",
       "Birthrate           220\n",
       "Deathrate           201\n",
       "Agriculture         150\n",
       "Industry            155\n",
       "Service             167\n",
       "dtype: int64"
      ]
     },
     "execution_count": 12,
     "metadata": {},
     "output_type": "execute_result"
    }
   ],
   "source": [
    "countries.nunique()"
   ]
  },
  {
   "cell_type": "markdown",
   "metadata": {},
   "source": [
    "A descrição estatística das variáveis numéricas é:"
   ]
  },
  {
   "cell_type": "code",
   "execution_count": 13,
   "metadata": {
    "ExecuteTime": {
     "end_time": "2020-07-22T10:08:43.038115Z",
     "start_time": "2020-07-22T10:08:42.754099Z"
    }
   },
   "outputs": [
    {
     "data": {
      "text/html": [
       "<div>\n",
       "<style scoped>\n",
       "    .dataframe tbody tr th:only-of-type {\n",
       "        vertical-align: middle;\n",
       "    }\n",
       "\n",
       "    .dataframe tbody tr th {\n",
       "        vertical-align: top;\n",
       "    }\n",
       "\n",
       "    .dataframe thead th {\n",
       "        text-align: right;\n",
       "    }\n",
       "</style>\n",
       "<table border=\"1\" class=\"dataframe\">\n",
       "  <thead>\n",
       "    <tr style=\"text-align: right;\">\n",
       "      <th></th>\n",
       "      <th>Population</th>\n",
       "      <th>Area</th>\n",
       "      <th>Pop_density</th>\n",
       "      <th>Coastline_ratio</th>\n",
       "      <th>Net_migration</th>\n",
       "      <th>Infant_mortality</th>\n",
       "      <th>GDP</th>\n",
       "      <th>Literacy</th>\n",
       "      <th>Phones_per_1000</th>\n",
       "      <th>Arable</th>\n",
       "      <th>Crops</th>\n",
       "      <th>Other</th>\n",
       "      <th>Climate</th>\n",
       "      <th>Birthrate</th>\n",
       "      <th>Deathrate</th>\n",
       "      <th>Agriculture</th>\n",
       "      <th>Industry</th>\n",
       "      <th>Service</th>\n",
       "    </tr>\n",
       "  </thead>\n",
       "  <tbody>\n",
       "    <tr>\n",
       "      <th>count</th>\n",
       "      <td>2.270000e+02</td>\n",
       "      <td>2.270000e+02</td>\n",
       "      <td>227.000000</td>\n",
       "      <td>227.000000</td>\n",
       "      <td>224.000000</td>\n",
       "      <td>224.000000</td>\n",
       "      <td>226.000000</td>\n",
       "      <td>209.000000</td>\n",
       "      <td>223.000000</td>\n",
       "      <td>225.000000</td>\n",
       "      <td>225.000000</td>\n",
       "      <td>225.000000</td>\n",
       "      <td>205.000000</td>\n",
       "      <td>224.000000</td>\n",
       "      <td>223.000000</td>\n",
       "      <td>212.000000</td>\n",
       "      <td>211.000000</td>\n",
       "      <td>212.000000</td>\n",
       "    </tr>\n",
       "    <tr>\n",
       "      <th>mean</th>\n",
       "      <td>2.874028e+07</td>\n",
       "      <td>5.982270e+05</td>\n",
       "      <td>379.047137</td>\n",
       "      <td>21.165330</td>\n",
       "      <td>0.038125</td>\n",
       "      <td>35.506964</td>\n",
       "      <td>9689.823009</td>\n",
       "      <td>82.838278</td>\n",
       "      <td>236.061435</td>\n",
       "      <td>13.797111</td>\n",
       "      <td>4.564222</td>\n",
       "      <td>81.638311</td>\n",
       "      <td>2.139024</td>\n",
       "      <td>22.114732</td>\n",
       "      <td>9.241345</td>\n",
       "      <td>0.150844</td>\n",
       "      <td>0.282711</td>\n",
       "      <td>0.565283</td>\n",
       "    </tr>\n",
       "    <tr>\n",
       "      <th>std</th>\n",
       "      <td>1.178913e+08</td>\n",
       "      <td>1.790282e+06</td>\n",
       "      <td>1660.185825</td>\n",
       "      <td>72.286863</td>\n",
       "      <td>4.889269</td>\n",
       "      <td>35.389899</td>\n",
       "      <td>10049.138513</td>\n",
       "      <td>19.722173</td>\n",
       "      <td>227.991829</td>\n",
       "      <td>13.040402</td>\n",
       "      <td>8.361470</td>\n",
       "      <td>16.140835</td>\n",
       "      <td>0.699397</td>\n",
       "      <td>11.176716</td>\n",
       "      <td>4.990026</td>\n",
       "      <td>0.146798</td>\n",
       "      <td>0.138272</td>\n",
       "      <td>0.165841</td>\n",
       "    </tr>\n",
       "    <tr>\n",
       "      <th>min</th>\n",
       "      <td>7.026000e+03</td>\n",
       "      <td>2.000000e+00</td>\n",
       "      <td>0.000000</td>\n",
       "      <td>0.000000</td>\n",
       "      <td>-20.990000</td>\n",
       "      <td>2.290000</td>\n",
       "      <td>500.000000</td>\n",
       "      <td>17.600000</td>\n",
       "      <td>0.200000</td>\n",
       "      <td>0.000000</td>\n",
       "      <td>0.000000</td>\n",
       "      <td>33.330000</td>\n",
       "      <td>1.000000</td>\n",
       "      <td>7.290000</td>\n",
       "      <td>2.290000</td>\n",
       "      <td>0.000000</td>\n",
       "      <td>0.020000</td>\n",
       "      <td>0.062000</td>\n",
       "    </tr>\n",
       "    <tr>\n",
       "      <th>25%</th>\n",
       "      <td>4.376240e+05</td>\n",
       "      <td>4.647500e+03</td>\n",
       "      <td>29.150000</td>\n",
       "      <td>0.100000</td>\n",
       "      <td>-0.927500</td>\n",
       "      <td>8.150000</td>\n",
       "      <td>1900.000000</td>\n",
       "      <td>70.600000</td>\n",
       "      <td>37.800000</td>\n",
       "      <td>3.220000</td>\n",
       "      <td>0.190000</td>\n",
       "      <td>71.650000</td>\n",
       "      <td>2.000000</td>\n",
       "      <td>12.672500</td>\n",
       "      <td>5.910000</td>\n",
       "      <td>0.037750</td>\n",
       "      <td>0.193000</td>\n",
       "      <td>0.429250</td>\n",
       "    </tr>\n",
       "    <tr>\n",
       "      <th>50%</th>\n",
       "      <td>4.786994e+06</td>\n",
       "      <td>8.660000e+04</td>\n",
       "      <td>78.800000</td>\n",
       "      <td>0.730000</td>\n",
       "      <td>0.000000</td>\n",
       "      <td>21.000000</td>\n",
       "      <td>5550.000000</td>\n",
       "      <td>92.500000</td>\n",
       "      <td>176.200000</td>\n",
       "      <td>10.420000</td>\n",
       "      <td>1.030000</td>\n",
       "      <td>85.700000</td>\n",
       "      <td>2.000000</td>\n",
       "      <td>18.790000</td>\n",
       "      <td>7.840000</td>\n",
       "      <td>0.099000</td>\n",
       "      <td>0.272000</td>\n",
       "      <td>0.571000</td>\n",
       "    </tr>\n",
       "    <tr>\n",
       "      <th>75%</th>\n",
       "      <td>1.749777e+07</td>\n",
       "      <td>4.418110e+05</td>\n",
       "      <td>190.150000</td>\n",
       "      <td>10.345000</td>\n",
       "      <td>0.997500</td>\n",
       "      <td>55.705000</td>\n",
       "      <td>15700.000000</td>\n",
       "      <td>98.000000</td>\n",
       "      <td>389.650000</td>\n",
       "      <td>20.000000</td>\n",
       "      <td>4.440000</td>\n",
       "      <td>95.440000</td>\n",
       "      <td>3.000000</td>\n",
       "      <td>29.820000</td>\n",
       "      <td>10.605000</td>\n",
       "      <td>0.221000</td>\n",
       "      <td>0.341000</td>\n",
       "      <td>0.678500</td>\n",
       "    </tr>\n",
       "    <tr>\n",
       "      <th>max</th>\n",
       "      <td>1.313974e+09</td>\n",
       "      <td>1.707520e+07</td>\n",
       "      <td>16271.500000</td>\n",
       "      <td>870.660000</td>\n",
       "      <td>23.060000</td>\n",
       "      <td>191.190000</td>\n",
       "      <td>55100.000000</td>\n",
       "      <td>100.000000</td>\n",
       "      <td>1035.600000</td>\n",
       "      <td>62.110000</td>\n",
       "      <td>50.680000</td>\n",
       "      <td>100.000000</td>\n",
       "      <td>4.000000</td>\n",
       "      <td>50.730000</td>\n",
       "      <td>29.740000</td>\n",
       "      <td>0.769000</td>\n",
       "      <td>0.906000</td>\n",
       "      <td>0.954000</td>\n",
       "    </tr>\n",
       "  </tbody>\n",
       "</table>\n",
       "</div>"
      ],
      "text/plain": [
       "         Population          Area   Pop_density  Coastline_ratio  \\\n",
       "count  2.270000e+02  2.270000e+02    227.000000       227.000000   \n",
       "mean   2.874028e+07  5.982270e+05    379.047137        21.165330   \n",
       "std    1.178913e+08  1.790282e+06   1660.185825        72.286863   \n",
       "min    7.026000e+03  2.000000e+00      0.000000         0.000000   \n",
       "25%    4.376240e+05  4.647500e+03     29.150000         0.100000   \n",
       "50%    4.786994e+06  8.660000e+04     78.800000         0.730000   \n",
       "75%    1.749777e+07  4.418110e+05    190.150000        10.345000   \n",
       "max    1.313974e+09  1.707520e+07  16271.500000       870.660000   \n",
       "\n",
       "       Net_migration  Infant_mortality           GDP    Literacy  \\\n",
       "count     224.000000        224.000000    226.000000  209.000000   \n",
       "mean        0.038125         35.506964   9689.823009   82.838278   \n",
       "std         4.889269         35.389899  10049.138513   19.722173   \n",
       "min       -20.990000          2.290000    500.000000   17.600000   \n",
       "25%        -0.927500          8.150000   1900.000000   70.600000   \n",
       "50%         0.000000         21.000000   5550.000000   92.500000   \n",
       "75%         0.997500         55.705000  15700.000000   98.000000   \n",
       "max        23.060000        191.190000  55100.000000  100.000000   \n",
       "\n",
       "       Phones_per_1000      Arable       Crops       Other     Climate  \\\n",
       "count       223.000000  225.000000  225.000000  225.000000  205.000000   \n",
       "mean        236.061435   13.797111    4.564222   81.638311    2.139024   \n",
       "std         227.991829   13.040402    8.361470   16.140835    0.699397   \n",
       "min           0.200000    0.000000    0.000000   33.330000    1.000000   \n",
       "25%          37.800000    3.220000    0.190000   71.650000    2.000000   \n",
       "50%         176.200000   10.420000    1.030000   85.700000    2.000000   \n",
       "75%         389.650000   20.000000    4.440000   95.440000    3.000000   \n",
       "max        1035.600000   62.110000   50.680000  100.000000    4.000000   \n",
       "\n",
       "        Birthrate   Deathrate  Agriculture    Industry     Service  \n",
       "count  224.000000  223.000000   212.000000  211.000000  212.000000  \n",
       "mean    22.114732    9.241345     0.150844    0.282711    0.565283  \n",
       "std     11.176716    4.990026     0.146798    0.138272    0.165841  \n",
       "min      7.290000    2.290000     0.000000    0.020000    0.062000  \n",
       "25%     12.672500    5.910000     0.037750    0.193000    0.429250  \n",
       "50%     18.790000    7.840000     0.099000    0.272000    0.571000  \n",
       "75%     29.820000   10.605000     0.221000    0.341000    0.678500  \n",
       "max     50.730000   29.740000     0.769000    0.906000    0.954000  "
      ]
     },
     "execution_count": 13,
     "metadata": {},
     "output_type": "execute_result"
    }
   ],
   "source": [
    "countries.describe()"
   ]
  },
  {
   "cell_type": "markdown",
   "metadata": {},
   "source": [
    "O clima está rotulado em 6 categorias, sendo que alguns dados não se encontram em nenhuma delas."
   ]
  },
  {
   "cell_type": "code",
   "execution_count": 14,
   "metadata": {
    "ExecuteTime": {
     "end_time": "2020-07-22T10:08:43.144121Z",
     "start_time": "2020-07-22T10:08:43.041115Z"
    },
    "scrolled": true
   },
   "outputs": [
    {
     "data": {
      "text/plain": [
       "2.0    111\n",
       "3.0     48\n",
       "1.0     29\n",
       "1.5      8\n",
       "4.0      6\n",
       "2.5      3\n",
       "Name: Climate, dtype: int64"
      ]
     },
     "execution_count": 14,
     "metadata": {},
     "output_type": "execute_result"
    }
   ],
   "source": [
    "countries['Climate'].value_counts()"
   ]
  },
  {
   "cell_type": "markdown",
   "metadata": {},
   "source": [
    "A distribuição por região é a seguinte"
   ]
  },
  {
   "cell_type": "code",
   "execution_count": 15,
   "metadata": {
    "ExecuteTime": {
     "end_time": "2020-07-22T10:08:43.396136Z",
     "start_time": "2020-07-22T10:08:43.147121Z"
    }
   },
   "outputs": [
    {
     "data": {
      "text/plain": [
       "SUB-SAHARAN AFRICA      51\n",
       "LATIN AMER. & CARIB     45\n",
       "ASIA (EX. NEAR EAST)    28\n",
       "WESTERN EUROPE          28\n",
       "OCEANIA                 21\n",
       "NEAR EAST               16\n",
       "C.W. OF IND. STATES     12\n",
       "EASTERN EUROPE          12\n",
       "NORTHERN AFRICA          6\n",
       "NORTHERN AMERICA         5\n",
       "BALTICS                  3\n",
       "Name: Region, dtype: int64"
      ]
     },
     "execution_count": 15,
     "metadata": {},
     "output_type": "execute_result"
    }
   ],
   "source": [
    "countries['Region'].value_counts()"
   ]
  },
  {
   "cell_type": "code",
   "execution_count": 16,
   "metadata": {
    "ExecuteTime": {
     "end_time": "2020-07-22T10:08:43.686152Z",
     "start_time": "2020-07-22T10:08:43.399136Z"
    }
   },
   "outputs": [
    {
     "data": {
      "text/plain": [
       "count      227.000000\n",
       "mean       379.047137\n",
       "std       1660.185825\n",
       "min          0.000000\n",
       "25%         29.150000\n",
       "50%         78.800000\n",
       "75%        190.150000\n",
       "max      16271.500000\n",
       "Name: Pop_density, dtype: float64"
      ]
     },
     "execution_count": 16,
     "metadata": {},
     "output_type": "execute_result"
    }
   ],
   "source": [
    "countries['Pop_density'].describe()"
   ]
  },
  {
   "cell_type": "code",
   "execution_count": 17,
   "metadata": {
    "ExecuteTime": {
     "end_time": "2020-07-22T10:08:44.456196Z",
     "start_time": "2020-07-22T10:08:43.689152Z"
    }
   },
   "outputs": [
    {
     "data": {
      "text/plain": [
       "23"
      ]
     },
     "execution_count": 17,
     "metadata": {},
     "output_type": "execute_result"
    },
    {
     "data": {
      "image/png": "[encoded data removed]",
      "text/plain": [
       "<Figure size 864x576 with 1 Axes>"
      ]
     },
     "metadata": {},
     "output_type": "display_data"
    }
   ],
   "source": [
    "est = preprocessing.KBinsDiscretizer(n_bins=10, encode='ordinal', strategy='quantile')\n",
    "pop_density_10bins = est.fit_transform(countries[['Pop_density']])\n",
    "plt.hist(pop_density_10bins)\n",
    "(pop_density_10bins > np.percentile(pop_density_10bins, 90)).sum()"
   ]
  },
  {
   "cell_type": "code",
   "execution_count": 18,
   "metadata": {
    "ExecuteTime": {
     "end_time": "2020-07-22T10:08:44.480198Z",
     "start_time": "2020-07-22T10:08:44.459196Z"
    }
   },
   "outputs": [
    {
     "data": {
      "text/plain": [
       "10"
      ]
     },
     "execution_count": 18,
     "metadata": {},
     "output_type": "execute_result"
    }
   ],
   "source": [
    "enc = preprocessing.OneHotEncoder()\n",
    "    \n",
    "climate_one_hot = enc.fit_transform(countries[['Climate']].dropna())\n",
    "region_one_hot = enc.fit_transform(countries[['Region']])\n",
    "        \n",
    "climate_old_n = countries['Climate'].nunique()\n",
    "region_old_n = countries['Region'].nunique()\n",
    "    \n",
    "new_elements_climate = climate_one_hot.shape[1] - 1\n",
    "new_elements_region = region_one_hot.shape[1] - 1\n",
    "    \n",
    "new_elements = new_elements_climate + new_elements_region\n",
    "new_elements_climate\n",
    "new_elements_region"
   ]
  },
  {
   "cell_type": "code",
   "execution_count": 19,
   "metadata": {
    "ExecuteTime": {
     "end_time": "2020-07-22T10:08:44.664208Z",
     "start_time": "2020-07-22T10:08:44.483198Z"
    }
   },
   "outputs": [
    {
     "data": {
      "text/plain": [
       "1003"
      ]
     },
     "execution_count": 19,
     "metadata": {},
     "output_type": "execute_result"
    }
   ],
   "source": [
    "climate_one_hot.shape[0] * climate_one_hot.shape[1] - len(countries['Climate'])"
   ]
  },
  {
   "cell_type": "code",
   "execution_count": 20,
   "metadata": {
    "ExecuteTime": {
     "end_time": "2020-07-22T10:08:44.832218Z",
     "start_time": "2020-07-22T10:08:44.668208Z"
    }
   },
   "outputs": [
    {
     "data": {
      "text/plain": [
       "3273"
      ]
     },
     "execution_count": 20,
     "metadata": {},
     "output_type": "execute_result"
    }
   ],
   "source": [
    "new_elements = climate_one_hot.shape[0] * climate_one_hot.shape[1] - len(countries['Climate'])\n",
    "new_elements = new_elements + region_one_hot.shape[0] * region_one_hot.shape[1] - len(countries['Region'])\n",
    "new_elements"
   ]
  },
  {
   "cell_type": "code",
   "execution_count": 21,
   "metadata": {
    "ExecuteTime": {
     "end_time": "2020-07-22T10:08:45.006228Z",
     "start_time": "2020-07-22T10:08:44.835218Z"
    }
   },
   "outputs": [
    {
     "data": {
      "text/plain": [
       "<205x6 sparse matrix of type '<class 'numpy.float64'>'\n",
       "\twith 205 stored elements in Compressed Sparse Row format>"
      ]
     },
     "execution_count": 21,
     "metadata": {},
     "output_type": "execute_result"
    }
   ],
   "source": [
    "climate_one_hot"
   ]
  },
  {
   "cell_type": "code",
   "execution_count": 22,
   "metadata": {
    "ExecuteTime": {
     "end_time": "2020-07-22T10:08:45.263242Z",
     "start_time": "2020-07-22T10:08:45.016228Z"
    }
   },
   "outputs": [
    {
     "data": {
      "text/plain": [
       "6"
      ]
     },
     "execution_count": 22,
     "metadata": {},
     "output_type": "execute_result"
    }
   ],
   "source": [
    "countries['Climate'].nunique()"
   ]
  },
  {
   "cell_type": "code",
   "execution_count": 23,
   "metadata": {
    "ExecuteTime": {
     "end_time": "2020-07-22T10:08:45.517257Z",
     "start_time": "2020-07-22T10:08:45.270243Z"
    }
   },
   "outputs": [
    {
     "data": {
      "text/plain": [
       "11"
      ]
     },
     "execution_count": 23,
     "metadata": {},
     "output_type": "execute_result"
    }
   ],
   "source": [
    "countries['Region'].nunique()"
   ]
  },
  {
   "cell_type": "code",
   "execution_count": 24,
   "metadata": {
    "ExecuteTime": {
     "end_time": "2020-07-22T10:08:45.839275Z",
     "start_time": "2020-07-22T10:08:45.521257Z"
    }
   },
   "outputs": [
    {
     "data": {
      "text/plain": [
       "<227x11 sparse matrix of type '<class 'numpy.float64'>'\n",
       "\twith 227 stored elements in Compressed Sparse Row format>"
      ]
     },
     "execution_count": 24,
     "metadata": {},
     "output_type": "execute_result"
    }
   ],
   "source": [
    "region_one_hot "
   ]
  },
  {
   "cell_type": "code",
   "execution_count": 25,
   "metadata": {
    "ExecuteTime": {
     "end_time": "2020-07-22T10:08:46.399307Z",
     "start_time": "2020-07-22T10:08:45.842275Z"
    }
   },
   "outputs": [
    {
     "data": {
      "text/plain": [
       "array([[1., 0., 0., 0., 0., 0., 0., 0., 0., 0., 0.],\n",
       "       [0., 0., 0., 1., 0., 0., 0., 0., 0., 0., 0.],\n",
       "       [0., 0., 0., 0., 0., 0., 1., 0., 0., 0., 0.],\n",
       "       [0., 0., 0., 0., 0., 0., 0., 0., 1., 0., 0.],\n",
       "       [0., 0., 0., 0., 0., 0., 0., 0., 0., 0., 1.],\n",
       "       [0., 0., 0., 0., 0., 0., 0., 0., 0., 1., 0.],\n",
       "       [0., 0., 0., 0., 1., 0., 0., 0., 0., 0., 0.],\n",
       "       [0., 0., 0., 0., 1., 0., 0., 0., 0., 0., 0.],\n",
       "       [0., 0., 0., 0., 1., 0., 0., 0., 0., 0., 0.],\n",
       "       [0., 0., 1., 0., 0., 0., 0., 0., 0., 0., 0.]])"
      ]
     },
     "execution_count": 25,
     "metadata": {},
     "output_type": "execute_result"
    }
   ],
   "source": [
    "region_one_hot.toarray()[:10]"
   ]
  },
  {
   "cell_type": "code",
   "execution_count": 26,
   "metadata": {
    "ExecuteTime": {
     "end_time": "2020-07-22T10:08:46.573317Z",
     "start_time": "2020-07-22T10:08:46.409308Z"
    }
   },
   "outputs": [
    {
     "data": {
      "text/plain": [
       "array(['ASIA (EX. NEAR EAST)', 'BALTICS', 'C.W. OF IND. STATES',\n",
       "       'EASTERN EUROPE', 'LATIN AMER. & CARIB', 'NEAR EAST',\n",
       "       'NORTHERN AFRICA', 'NORTHERN AMERICA', 'OCEANIA',\n",
       "       'SUB-SAHARAN AFRICA', 'WESTERN EUROPE'], dtype=object)"
      ]
     },
     "execution_count": 26,
     "metadata": {},
     "output_type": "execute_result"
    }
   ],
   "source": [
    "enc.categories_[0]"
   ]
  },
  {
   "cell_type": "markdown",
   "metadata": {},
   "source": [
    "Em formato numérico não roda com NaN."
   ]
  },
  {
   "cell_type": "code",
   "execution_count": 27,
   "metadata": {
    "ExecuteTime": {
     "end_time": "2020-07-22T10:08:46.833332Z",
     "start_time": "2020-07-22T10:08:46.576317Z"
    }
   },
   "outputs": [
    {
     "data": {
      "text/plain": [
       "array([1. , 1.5, 2. , 2.5, 3. , 4. ])"
      ]
     },
     "execution_count": 27,
     "metadata": {},
     "output_type": "execute_result"
    }
   ],
   "source": [
    "enc = preprocessing.OneHotEncoder()\n",
    "climate_one_hot = enc.fit_transform(countries[['Climate']].dropna())\n",
    "enc.categories_[0]"
   ]
  },
  {
   "cell_type": "markdown",
   "metadata": {},
   "source": [
    "Se converte em string para contabilizar NaN."
   ]
  },
  {
   "cell_type": "code",
   "execution_count": 28,
   "metadata": {
    "ExecuteTime": {
     "end_time": "2020-07-22T10:08:47.087347Z",
     "start_time": "2020-07-22T10:08:46.836332Z"
    }
   },
   "outputs": [
    {
     "data": {
      "text/plain": [
       "array(['1.0', '1.5', '2.0', '2.5', '3.0', '4.0', 'nan'], dtype=object)"
      ]
     },
     "execution_count": 28,
     "metadata": {},
     "output_type": "execute_result"
    }
   ],
   "source": [
    "enc = preprocessing.OneHotEncoder()\n",
    "climate_one_hot = enc.fit_transform(countries[['Climate']].astype('str'))\n",
    "enc.categories_[0]"
   ]
  },
  {
   "cell_type": "code",
   "execution_count": null,
   "metadata": {},
   "outputs": [],
   "source": []
  },
  {
   "cell_type": "code",
   "execution_count": null,
   "metadata": {},
   "outputs": [],
   "source": []
  },
  {
   "cell_type": "code",
   "execution_count": null,
   "metadata": {},
   "outputs": [],
   "source": []
  },
  {
   "cell_type": "code",
   "execution_count": null,
   "metadata": {},
   "outputs": [],
   "source": []
  },
  {
   "cell_type": "markdown",
   "metadata": {},
   "source": [
    "## Questão 1\n",
    "\n",
    "Quais são as regiões (variável `Region`) presentes no _data set_? Retorne uma lista com as regiões únicas do _data set_ com os espaços à frente e atrás da string removidos (mas mantenha pontuação: ponto, hífen etc) e ordenadas em ordem alfabética."
   ]
  },
  {
   "cell_type": "code",
   "execution_count": 29,
   "metadata": {
    "ExecuteTime": {
     "end_time": "2020-07-22T10:08:47.259357Z",
     "start_time": "2020-07-22T10:08:47.090347Z"
    }
   },
   "outputs": [],
   "source": [
    "def q1():\n",
    "    return np.sort(countries[\"Region\"].unique()).tolist()"
   ]
  },
  {
   "cell_type": "code",
   "execution_count": 30,
   "metadata": {
    "ExecuteTime": {
     "end_time": "2020-07-22T10:08:47.427366Z",
     "start_time": "2020-07-22T10:08:47.263357Z"
    }
   },
   "outputs": [
    {
     "data": {
      "text/plain": [
       "['ASIA (EX. NEAR EAST)',\n",
       " 'BALTICS',\n",
       " 'C.W. OF IND. STATES',\n",
       " 'EASTERN EUROPE',\n",
       " 'LATIN AMER. & CARIB',\n",
       " 'NEAR EAST',\n",
       " 'NORTHERN AFRICA',\n",
       " 'NORTHERN AMERICA',\n",
       " 'OCEANIA',\n",
       " 'SUB-SAHARAN AFRICA',\n",
       " 'WESTERN EUROPE']"
      ]
     },
     "execution_count": 30,
     "metadata": {},
     "output_type": "execute_result"
    }
   ],
   "source": [
    "# \n",
    "q1()"
   ]
  },
  {
   "cell_type": "markdown",
   "metadata": {},
   "source": [
    "## Questão 2\n",
    "\n",
    "Discretizando a variável `Pop_density` em 10 intervalos com `KBinsDiscretizer`, seguindo o encode `ordinal` e estratégia `quantile`, quantos países se encontram acima do 90º percentil? Responda como um único escalar inteiro."
   ]
  },
  {
   "cell_type": "code",
   "execution_count": 31,
   "metadata": {
    "ExecuteTime": {
     "end_time": "2020-07-22T10:08:47.604376Z",
     "start_time": "2020-07-22T10:08:47.429366Z"
    }
   },
   "outputs": [],
   "source": [
    "def q2():\n",
    "    est = preprocessing.KBinsDiscretizer(n_bins=10, encode='ordinal', strategy='quantile')\n",
    "    pop_density_10bins = est.fit_transform(countries[['Pop_density']])\n",
    "    plt.hist(pop_density_10bins)\n",
    "    above_90 = np.sum(pop_density_10bins >= 9)\n",
    "    # (pop_density_10bins > np.percentile(pop_density_10bins, 90)).sum()\n",
    "    return above_90"
   ]
  },
  {
   "cell_type": "code",
   "execution_count": 32,
   "metadata": {
    "ExecuteTime": {
     "end_time": "2020-07-22T10:08:48.397422Z",
     "start_time": "2020-07-22T10:08:47.608377Z"
    }
   },
   "outputs": [
    {
     "data": {
      "text/plain": [
       "23"
      ]
     },
     "execution_count": 32,
     "metadata": {},
     "output_type": "execute_result"
    },
    {
     "data": {
      "image/png": "[encoded data removed]",
      "text/plain": [
       "<Figure size 864x576 with 1 Axes>"
      ]
     },
     "metadata": {},
     "output_type": "display_data"
    }
   ],
   "source": [
    "q2()"
   ]
  },
  {
   "cell_type": "markdown",
   "metadata": {},
   "source": [
    "# Questão 3\n",
    "\n",
    "Se codificarmos as variáveis `Region` e `Climate` usando _one-hot encoding_, quantos novos atributos seriam criados? Responda como um único escalar."
   ]
  },
  {
   "cell_type": "code",
   "execution_count": 33,
   "metadata": {
    "ExecuteTime": {
     "end_time": "2020-07-22T10:08:48.410422Z",
     "start_time": "2020-07-22T10:08:48.401422Z"
    }
   },
   "outputs": [],
   "source": [
    "def q3():\n",
    "    \n",
    "    enc = preprocessing.OneHotEncoder()\n",
    "       \n",
    "    climate_one_hot = enc.fit_transform(countries[['Climate']].astype('str'))\n",
    "    # climate_one_hot = enc.fit_transform(countries[['Climate']].dropna())\n",
    "    \n",
    "    region_one_hot = enc.fit_transform(countries[['Region']])\n",
    "    \n",
    "    climate_old_n = countries['Climate'].nunique()\n",
    "    region_old_n = countries['Region'].nunique()\n",
    "    \n",
    "    new_elements_climate = climate_one_hot.shape[1]\n",
    "    new_elements_region = region_one_hot.shape[1]\n",
    "    \n",
    "    new_elements = new_elements_climate + new_elements_region\n",
    "    \n",
    "    return new_elements"
   ]
  },
  {
   "cell_type": "code",
   "execution_count": 34,
   "metadata": {
    "ExecuteTime": {
     "end_time": "2020-07-22T10:08:48.570432Z",
     "start_time": "2020-07-22T10:08:48.415423Z"
    }
   },
   "outputs": [
    {
     "data": {
      "text/plain": [
       "18"
      ]
     },
     "execution_count": 34,
     "metadata": {},
     "output_type": "execute_result"
    }
   ],
   "source": [
    "q3()"
   ]
  },
  {
   "cell_type": "code",
   "execution_count": 35,
   "metadata": {
    "ExecuteTime": {
     "end_time": "2020-07-22T10:08:48.731441Z",
     "start_time": "2020-07-22T10:08:48.573432Z"
    }
   },
   "outputs": [
    {
     "name": "stdout",
     "output_type": "stream",
     "text": [
      "[1.  3.  2.  nan 4.  1.5 2.5]\n"
     ]
    },
    {
     "data": {
      "text/plain": [
       "7"
      ]
     },
     "execution_count": 35,
     "metadata": {},
     "output_type": "execute_result"
    }
   ],
   "source": [
    "print(countries['Climate'].unique())\n",
    "len(countries['Climate'].unique())"
   ]
  },
  {
   "cell_type": "code",
   "execution_count": 36,
   "metadata": {
    "ExecuteTime": {
     "end_time": "2020-07-22T10:08:48.983455Z",
     "start_time": "2020-07-22T10:08:48.734441Z"
    }
   },
   "outputs": [
    {
     "data": {
      "text/plain": [
       "7"
      ]
     },
     "execution_count": 36,
     "metadata": {},
     "output_type": "execute_result"
    }
   ],
   "source": [
    "climate_one_hot.shape[1]"
   ]
  },
  {
   "cell_type": "code",
   "execution_count": 37,
   "metadata": {
    "ExecuteTime": {
     "end_time": "2020-07-22T10:08:49.230469Z",
     "start_time": "2020-07-22T10:08:48.986455Z"
    }
   },
   "outputs": [
    {
     "name": "stdout",
     "output_type": "stream",
     "text": [
      "['ASIA (EX. NEAR EAST)' 'EASTERN EUROPE' 'NORTHERN AFRICA' 'OCEANIA'\n",
      " 'WESTERN EUROPE' 'SUB-SAHARAN AFRICA' 'LATIN AMER. & CARIB'\n",
      " 'C.W. OF IND. STATES' 'NEAR EAST' 'NORTHERN AMERICA' 'BALTICS']\n"
     ]
    },
    {
     "data": {
      "text/plain": [
       "11"
      ]
     },
     "execution_count": 37,
     "metadata": {},
     "output_type": "execute_result"
    }
   ],
   "source": [
    "print(countries['Region'].unique())\n",
    "len(countries['Region'].unique())"
   ]
  },
  {
   "cell_type": "code",
   "execution_count": 38,
   "metadata": {
    "ExecuteTime": {
     "end_time": "2020-07-22T10:08:49.472483Z",
     "start_time": "2020-07-22T10:08:49.233469Z"
    }
   },
   "outputs": [
    {
     "data": {
      "text/plain": [
       "11"
      ]
     },
     "execution_count": 38,
     "metadata": {},
     "output_type": "execute_result"
    }
   ],
   "source": [
    "region_one_hot.shape[1]"
   ]
  },
  {
   "cell_type": "code",
   "execution_count": 39,
   "metadata": {
    "ExecuteTime": {
     "end_time": "2020-07-22T10:08:49.854505Z",
     "start_time": "2020-07-22T10:08:49.475483Z"
    }
   },
   "outputs": [],
   "source": [
    "col_int_float_names = countries.select_dtypes(include=['int64', 'float64']).columns\n",
    "\n",
    "imputed_countries = countries.copy()\n",
    "\n",
    "for col in col_int_float_names:\n",
    "    imputed_countries[col] = countries[col].fillna(countries[col].median())\n"
   ]
  },
  {
   "cell_type": "code",
   "execution_count": 40,
   "metadata": {
    "ExecuteTime": {
     "end_time": "2020-07-22T10:08:50.034515Z",
     "start_time": "2020-07-22T10:08:49.857505Z"
    }
   },
   "outputs": [
    {
     "data": {
      "text/html": [
       "<div>\n",
       "<style scoped>\n",
       "    .dataframe tbody tr th:only-of-type {\n",
       "        vertical-align: middle;\n",
       "    }\n",
       "\n",
       "    .dataframe tbody tr th {\n",
       "        vertical-align: top;\n",
       "    }\n",
       "\n",
       "    .dataframe thead th {\n",
       "        text-align: right;\n",
       "    }\n",
       "</style>\n",
       "<table border=\"1\" class=\"dataframe\">\n",
       "  <thead>\n",
       "    <tr style=\"text-align: right;\">\n",
       "      <th></th>\n",
       "      <th>Country</th>\n",
       "      <th>Region</th>\n",
       "      <th>Population</th>\n",
       "      <th>Area</th>\n",
       "      <th>Pop_density</th>\n",
       "      <th>Coastline_ratio</th>\n",
       "      <th>Net_migration</th>\n",
       "      <th>Infant_mortality</th>\n",
       "      <th>GDP</th>\n",
       "      <th>Literacy</th>\n",
       "      <th>Phones_per_1000</th>\n",
       "      <th>Arable</th>\n",
       "      <th>Crops</th>\n",
       "      <th>Other</th>\n",
       "      <th>Climate</th>\n",
       "      <th>Birthrate</th>\n",
       "      <th>Deathrate</th>\n",
       "      <th>Agriculture</th>\n",
       "      <th>Industry</th>\n",
       "      <th>Service</th>\n",
       "    </tr>\n",
       "  </thead>\n",
       "  <tbody>\n",
       "    <tr>\n",
       "      <th>0</th>\n",
       "      <td>Afghanistan</td>\n",
       "      <td>ASIA (EX. NEAR EAST)</td>\n",
       "      <td>31056997</td>\n",
       "      <td>647500</td>\n",
       "      <td>48.0</td>\n",
       "      <td>0.00</td>\n",
       "      <td>23.06</td>\n",
       "      <td>163.07</td>\n",
       "      <td>700.0</td>\n",
       "      <td>36.0</td>\n",
       "      <td>3.2</td>\n",
       "      <td>12.13</td>\n",
       "      <td>0.22</td>\n",
       "      <td>87.65</td>\n",
       "      <td>1.0</td>\n",
       "      <td>46.60</td>\n",
       "      <td>20.34</td>\n",
       "      <td>0.380</td>\n",
       "      <td>0.240</td>\n",
       "      <td>0.380</td>\n",
       "    </tr>\n",
       "    <tr>\n",
       "      <th>1</th>\n",
       "      <td>Albania</td>\n",
       "      <td>EASTERN EUROPE</td>\n",
       "      <td>3581655</td>\n",
       "      <td>28748</td>\n",
       "      <td>124.6</td>\n",
       "      <td>1.26</td>\n",
       "      <td>-4.93</td>\n",
       "      <td>21.52</td>\n",
       "      <td>4500.0</td>\n",
       "      <td>86.5</td>\n",
       "      <td>71.2</td>\n",
       "      <td>21.09</td>\n",
       "      <td>4.42</td>\n",
       "      <td>74.49</td>\n",
       "      <td>3.0</td>\n",
       "      <td>15.11</td>\n",
       "      <td>5.22</td>\n",
       "      <td>0.232</td>\n",
       "      <td>0.188</td>\n",
       "      <td>0.579</td>\n",
       "    </tr>\n",
       "    <tr>\n",
       "      <th>2</th>\n",
       "      <td>Algeria</td>\n",
       "      <td>NORTHERN AFRICA</td>\n",
       "      <td>32930091</td>\n",
       "      <td>2381740</td>\n",
       "      <td>13.8</td>\n",
       "      <td>0.04</td>\n",
       "      <td>-0.39</td>\n",
       "      <td>31.00</td>\n",
       "      <td>6000.0</td>\n",
       "      <td>70.0</td>\n",
       "      <td>78.1</td>\n",
       "      <td>3.22</td>\n",
       "      <td>0.25</td>\n",
       "      <td>96.53</td>\n",
       "      <td>1.0</td>\n",
       "      <td>17.14</td>\n",
       "      <td>4.61</td>\n",
       "      <td>0.101</td>\n",
       "      <td>0.600</td>\n",
       "      <td>0.298</td>\n",
       "    </tr>\n",
       "    <tr>\n",
       "      <th>3</th>\n",
       "      <td>American Samoa</td>\n",
       "      <td>OCEANIA</td>\n",
       "      <td>57794</td>\n",
       "      <td>199</td>\n",
       "      <td>290.4</td>\n",
       "      <td>58.29</td>\n",
       "      <td>-20.71</td>\n",
       "      <td>9.27</td>\n",
       "      <td>8000.0</td>\n",
       "      <td>97.0</td>\n",
       "      <td>259.5</td>\n",
       "      <td>10.00</td>\n",
       "      <td>15.00</td>\n",
       "      <td>75.00</td>\n",
       "      <td>2.0</td>\n",
       "      <td>22.46</td>\n",
       "      <td>3.27</td>\n",
       "      <td>NaN</td>\n",
       "      <td>NaN</td>\n",
       "      <td>NaN</td>\n",
       "    </tr>\n",
       "    <tr>\n",
       "      <th>4</th>\n",
       "      <td>Andorra</td>\n",
       "      <td>WESTERN EUROPE</td>\n",
       "      <td>71201</td>\n",
       "      <td>468</td>\n",
       "      <td>152.1</td>\n",
       "      <td>0.00</td>\n",
       "      <td>6.60</td>\n",
       "      <td>4.05</td>\n",
       "      <td>19000.0</td>\n",
       "      <td>100.0</td>\n",
       "      <td>497.2</td>\n",
       "      <td>2.22</td>\n",
       "      <td>0.00</td>\n",
       "      <td>97.78</td>\n",
       "      <td>3.0</td>\n",
       "      <td>8.71</td>\n",
       "      <td>6.25</td>\n",
       "      <td>NaN</td>\n",
       "      <td>NaN</td>\n",
       "      <td>NaN</td>\n",
       "    </tr>\n",
       "  </tbody>\n",
       "</table>\n",
       "</div>"
      ],
      "text/plain": [
       "          Country                Region  Population     Area  Pop_density  \\\n",
       "0     Afghanistan  ASIA (EX. NEAR EAST)    31056997   647500         48.0   \n",
       "1         Albania        EASTERN EUROPE     3581655    28748        124.6   \n",
       "2         Algeria       NORTHERN AFRICA    32930091  2381740         13.8   \n",
       "3  American Samoa               OCEANIA       57794      199        290.4   \n",
       "4         Andorra        WESTERN EUROPE       71201      468        152.1   \n",
       "\n",
       "   Coastline_ratio  Net_migration  Infant_mortality      GDP  Literacy  \\\n",
       "0             0.00          23.06            163.07    700.0      36.0   \n",
       "1             1.26          -4.93             21.52   4500.0      86.5   \n",
       "2             0.04          -0.39             31.00   6000.0      70.0   \n",
       "3            58.29         -20.71              9.27   8000.0      97.0   \n",
       "4             0.00           6.60              4.05  19000.0     100.0   \n",
       "\n",
       "   Phones_per_1000  Arable  Crops  Other  Climate  Birthrate  Deathrate  \\\n",
       "0              3.2   12.13   0.22  87.65      1.0      46.60      20.34   \n",
       "1             71.2   21.09   4.42  74.49      3.0      15.11       5.22   \n",
       "2             78.1    3.22   0.25  96.53      1.0      17.14       4.61   \n",
       "3            259.5   10.00  15.00  75.00      2.0      22.46       3.27   \n",
       "4            497.2    2.22   0.00  97.78      3.0       8.71       6.25   \n",
       "\n",
       "   Agriculture  Industry  Service  \n",
       "0        0.380     0.240    0.380  \n",
       "1        0.232     0.188    0.579  \n",
       "2        0.101     0.600    0.298  \n",
       "3          NaN       NaN      NaN  \n",
       "4          NaN       NaN      NaN  "
      ]
     },
     "execution_count": 40,
     "metadata": {},
     "output_type": "execute_result"
    }
   ],
   "source": [
    "countries.head()"
   ]
  },
  {
   "cell_type": "code",
   "execution_count": 41,
   "metadata": {
    "ExecuteTime": {
     "end_time": "2020-07-22T10:08:50.286530Z",
     "start_time": "2020-07-22T10:08:50.036515Z"
    }
   },
   "outputs": [
    {
     "data": {
      "text/html": [
       "<div>\n",
       "<style scoped>\n",
       "    .dataframe tbody tr th:only-of-type {\n",
       "        vertical-align: middle;\n",
       "    }\n",
       "\n",
       "    .dataframe tbody tr th {\n",
       "        vertical-align: top;\n",
       "    }\n",
       "\n",
       "    .dataframe thead th {\n",
       "        text-align: right;\n",
       "    }\n",
       "</style>\n",
       "<table border=\"1\" class=\"dataframe\">\n",
       "  <thead>\n",
       "    <tr style=\"text-align: right;\">\n",
       "      <th></th>\n",
       "      <th>Country</th>\n",
       "      <th>Region</th>\n",
       "      <th>Population</th>\n",
       "      <th>Area</th>\n",
       "      <th>Pop_density</th>\n",
       "      <th>Coastline_ratio</th>\n",
       "      <th>Net_migration</th>\n",
       "      <th>Infant_mortality</th>\n",
       "      <th>GDP</th>\n",
       "      <th>Literacy</th>\n",
       "      <th>Phones_per_1000</th>\n",
       "      <th>Arable</th>\n",
       "      <th>Crops</th>\n",
       "      <th>Other</th>\n",
       "      <th>Climate</th>\n",
       "      <th>Birthrate</th>\n",
       "      <th>Deathrate</th>\n",
       "      <th>Agriculture</th>\n",
       "      <th>Industry</th>\n",
       "      <th>Service</th>\n",
       "    </tr>\n",
       "  </thead>\n",
       "  <tbody>\n",
       "    <tr>\n",
       "      <th>0</th>\n",
       "      <td>Afghanistan</td>\n",
       "      <td>ASIA (EX. NEAR EAST)</td>\n",
       "      <td>31056997</td>\n",
       "      <td>647500</td>\n",
       "      <td>48.0</td>\n",
       "      <td>0.00</td>\n",
       "      <td>23.06</td>\n",
       "      <td>163.07</td>\n",
       "      <td>700.0</td>\n",
       "      <td>36.0</td>\n",
       "      <td>3.2</td>\n",
       "      <td>12.13</td>\n",
       "      <td>0.22</td>\n",
       "      <td>87.65</td>\n",
       "      <td>1.0</td>\n",
       "      <td>46.60</td>\n",
       "      <td>20.34</td>\n",
       "      <td>0.380</td>\n",
       "      <td>0.240</td>\n",
       "      <td>0.380</td>\n",
       "    </tr>\n",
       "    <tr>\n",
       "      <th>1</th>\n",
       "      <td>Albania</td>\n",
       "      <td>EASTERN EUROPE</td>\n",
       "      <td>3581655</td>\n",
       "      <td>28748</td>\n",
       "      <td>124.6</td>\n",
       "      <td>1.26</td>\n",
       "      <td>-4.93</td>\n",
       "      <td>21.52</td>\n",
       "      <td>4500.0</td>\n",
       "      <td>86.5</td>\n",
       "      <td>71.2</td>\n",
       "      <td>21.09</td>\n",
       "      <td>4.42</td>\n",
       "      <td>74.49</td>\n",
       "      <td>3.0</td>\n",
       "      <td>15.11</td>\n",
       "      <td>5.22</td>\n",
       "      <td>0.232</td>\n",
       "      <td>0.188</td>\n",
       "      <td>0.579</td>\n",
       "    </tr>\n",
       "    <tr>\n",
       "      <th>2</th>\n",
       "      <td>Algeria</td>\n",
       "      <td>NORTHERN AFRICA</td>\n",
       "      <td>32930091</td>\n",
       "      <td>2381740</td>\n",
       "      <td>13.8</td>\n",
       "      <td>0.04</td>\n",
       "      <td>-0.39</td>\n",
       "      <td>31.00</td>\n",
       "      <td>6000.0</td>\n",
       "      <td>70.0</td>\n",
       "      <td>78.1</td>\n",
       "      <td>3.22</td>\n",
       "      <td>0.25</td>\n",
       "      <td>96.53</td>\n",
       "      <td>1.0</td>\n",
       "      <td>17.14</td>\n",
       "      <td>4.61</td>\n",
       "      <td>0.101</td>\n",
       "      <td>0.600</td>\n",
       "      <td>0.298</td>\n",
       "    </tr>\n",
       "    <tr>\n",
       "      <th>3</th>\n",
       "      <td>American Samoa</td>\n",
       "      <td>OCEANIA</td>\n",
       "      <td>57794</td>\n",
       "      <td>199</td>\n",
       "      <td>290.4</td>\n",
       "      <td>58.29</td>\n",
       "      <td>-20.71</td>\n",
       "      <td>9.27</td>\n",
       "      <td>8000.0</td>\n",
       "      <td>97.0</td>\n",
       "      <td>259.5</td>\n",
       "      <td>10.00</td>\n",
       "      <td>15.00</td>\n",
       "      <td>75.00</td>\n",
       "      <td>2.0</td>\n",
       "      <td>22.46</td>\n",
       "      <td>3.27</td>\n",
       "      <td>0.099</td>\n",
       "      <td>0.272</td>\n",
       "      <td>0.571</td>\n",
       "    </tr>\n",
       "    <tr>\n",
       "      <th>4</th>\n",
       "      <td>Andorra</td>\n",
       "      <td>WESTERN EUROPE</td>\n",
       "      <td>71201</td>\n",
       "      <td>468</td>\n",
       "      <td>152.1</td>\n",
       "      <td>0.00</td>\n",
       "      <td>6.60</td>\n",
       "      <td>4.05</td>\n",
       "      <td>19000.0</td>\n",
       "      <td>100.0</td>\n",
       "      <td>497.2</td>\n",
       "      <td>2.22</td>\n",
       "      <td>0.00</td>\n",
       "      <td>97.78</td>\n",
       "      <td>3.0</td>\n",
       "      <td>8.71</td>\n",
       "      <td>6.25</td>\n",
       "      <td>0.099</td>\n",
       "      <td>0.272</td>\n",
       "      <td>0.571</td>\n",
       "    </tr>\n",
       "  </tbody>\n",
       "</table>\n",
       "</div>"
      ],
      "text/plain": [
       "          Country                Region  Population     Area  Pop_density  \\\n",
       "0     Afghanistan  ASIA (EX. NEAR EAST)    31056997   647500         48.0   \n",
       "1         Albania        EASTERN EUROPE     3581655    28748        124.6   \n",
       "2         Algeria       NORTHERN AFRICA    32930091  2381740         13.8   \n",
       "3  American Samoa               OCEANIA       57794      199        290.4   \n",
       "4         Andorra        WESTERN EUROPE       71201      468        152.1   \n",
       "\n",
       "   Coastline_ratio  Net_migration  Infant_mortality      GDP  Literacy  \\\n",
       "0             0.00          23.06            163.07    700.0      36.0   \n",
       "1             1.26          -4.93             21.52   4500.0      86.5   \n",
       "2             0.04          -0.39             31.00   6000.0      70.0   \n",
       "3            58.29         -20.71              9.27   8000.0      97.0   \n",
       "4             0.00           6.60              4.05  19000.0     100.0   \n",
       "\n",
       "   Phones_per_1000  Arable  Crops  Other  Climate  Birthrate  Deathrate  \\\n",
       "0              3.2   12.13   0.22  87.65      1.0      46.60      20.34   \n",
       "1             71.2   21.09   4.42  74.49      3.0      15.11       5.22   \n",
       "2             78.1    3.22   0.25  96.53      1.0      17.14       4.61   \n",
       "3            259.5   10.00  15.00  75.00      2.0      22.46       3.27   \n",
       "4            497.2    2.22   0.00  97.78      3.0       8.71       6.25   \n",
       "\n",
       "   Agriculture  Industry  Service  \n",
       "0        0.380     0.240    0.380  \n",
       "1        0.232     0.188    0.579  \n",
       "2        0.101     0.600    0.298  \n",
       "3        0.099     0.272    0.571  \n",
       "4        0.099     0.272    0.571  "
      ]
     },
     "execution_count": 41,
     "metadata": {},
     "output_type": "execute_result"
    }
   ],
   "source": [
    "imputed_countries.head()"
   ]
  },
  {
   "cell_type": "code",
   "execution_count": null,
   "metadata": {},
   "outputs": [],
   "source": []
  },
  {
   "cell_type": "code",
   "execution_count": 42,
   "metadata": {
    "ExecuteTime": {
     "end_time": "2020-07-22T10:08:50.739556Z",
     "start_time": "2020-07-22T10:08:50.290530Z"
    }
   },
   "outputs": [],
   "source": [
    "# Create the Scaler object\n",
    "scaler = preprocessing.StandardScaler()\n",
    "\n",
    "scaled_countries = imputed_countries.copy()\n",
    "\n",
    "for col in col_int_float_names:\n",
    "    scaled_countries[[col]] = scaler.fit_transform(scaled_countries[[col]])\n",
    "    "
   ]
  },
  {
   "cell_type": "code",
   "execution_count": 43,
   "metadata": {
    "ExecuteTime": {
     "end_time": "2020-07-22T10:08:50.918566Z",
     "start_time": "2020-07-22T10:08:50.742556Z"
    }
   },
   "outputs": [
    {
     "data": {
      "text/html": [
       "<div>\n",
       "<style scoped>\n",
       "    .dataframe tbody tr th:only-of-type {\n",
       "        vertical-align: middle;\n",
       "    }\n",
       "\n",
       "    .dataframe tbody tr th {\n",
       "        vertical-align: top;\n",
       "    }\n",
       "\n",
       "    .dataframe thead th {\n",
       "        text-align: right;\n",
       "    }\n",
       "</style>\n",
       "<table border=\"1\" class=\"dataframe\">\n",
       "  <thead>\n",
       "    <tr style=\"text-align: right;\">\n",
       "      <th></th>\n",
       "      <th>Country</th>\n",
       "      <th>Region</th>\n",
       "      <th>Population</th>\n",
       "      <th>Area</th>\n",
       "      <th>Pop_density</th>\n",
       "      <th>Coastline_ratio</th>\n",
       "      <th>Net_migration</th>\n",
       "      <th>Infant_mortality</th>\n",
       "      <th>GDP</th>\n",
       "      <th>Literacy</th>\n",
       "      <th>Phones_per_1000</th>\n",
       "      <th>Arable</th>\n",
       "      <th>Crops</th>\n",
       "      <th>Other</th>\n",
       "      <th>Climate</th>\n",
       "      <th>Birthrate</th>\n",
       "      <th>Deathrate</th>\n",
       "      <th>Agriculture</th>\n",
       "      <th>Industry</th>\n",
       "      <th>Service</th>\n",
       "    </tr>\n",
       "  </thead>\n",
       "  <tbody>\n",
       "    <tr>\n",
       "      <th>0</th>\n",
       "      <td>Afghanistan</td>\n",
       "      <td>ASIA (EX. NEAR EAST)</td>\n",
       "      <td>0.019695</td>\n",
       "      <td>0.027583</td>\n",
       "      <td>-0.199844</td>\n",
       "      <td>-0.293443</td>\n",
       "      <td>4.750798</td>\n",
       "      <td>3.638098</td>\n",
       "      <td>-0.896394</td>\n",
       "      <td>-2.497817</td>\n",
       "      <td>-1.027491</td>\n",
       "      <td>-0.126361</td>\n",
       "      <td>-0.518861</td>\n",
       "      <td>0.372602</td>\n",
       "      <td>-1.694358</td>\n",
       "      <td>2.212967</td>\n",
       "      <td>2.252507</td>\n",
       "      <td>1.636576</td>\n",
       "      <td>-0.315406</td>\n",
       "      <td>-1.161135</td>\n",
       "    </tr>\n",
       "    <tr>\n",
       "      <th>1</th>\n",
       "      <td>Albania</td>\n",
       "      <td>EASTERN EUROPE</td>\n",
       "      <td>-0.213877</td>\n",
       "      <td>-0.318797</td>\n",
       "      <td>-0.153603</td>\n",
       "      <td>-0.275974</td>\n",
       "      <td>-1.025097</td>\n",
       "      <td>-0.392850</td>\n",
       "      <td>-0.516718</td>\n",
       "      <td>0.151933</td>\n",
       "      <td>-0.726079</td>\n",
       "      <td>0.565115</td>\n",
       "      <td>-0.013604</td>\n",
       "      <td>-0.447933</td>\n",
       "      <td>1.316360</td>\n",
       "      <td>-0.627986</td>\n",
       "      <td>-0.809333</td>\n",
       "      <td>0.595163</td>\n",
       "      <td>-0.706318</td>\n",
       "      <td>0.083424</td>\n",
       "    </tr>\n",
       "    <tr>\n",
       "      <th>2</th>\n",
       "      <td>Algeria</td>\n",
       "      <td>NORTHERN AFRICA</td>\n",
       "      <td>0.035618</td>\n",
       "      <td>0.998421</td>\n",
       "      <td>-0.220490</td>\n",
       "      <td>-0.292889</td>\n",
       "      <td>-0.088242</td>\n",
       "      <td>-0.122886</td>\n",
       "      <td>-0.366846</td>\n",
       "      <td>-0.713827</td>\n",
       "      <td>-0.695494</td>\n",
       "      <td>-0.813978</td>\n",
       "      <td>-0.515252</td>\n",
       "      <td>0.926276</td>\n",
       "      <td>-1.694358</td>\n",
       "      <td>-0.444844</td>\n",
       "      <td>-0.932859</td>\n",
       "      <td>-0.326627</td>\n",
       "      <td>2.390911</td>\n",
       "      <td>-1.673969</td>\n",
       "    </tr>\n",
       "    <tr>\n",
       "      <th>3</th>\n",
       "      <td>American Samoa</td>\n",
       "      <td>OCEANIA</td>\n",
       "      <td>-0.243834</td>\n",
       "      <td>-0.334779</td>\n",
       "      <td>-0.053514</td>\n",
       "      <td>0.514709</td>\n",
       "      <td>-4.281389</td>\n",
       "      <td>-0.741696</td>\n",
       "      <td>-0.167016</td>\n",
       "      <td>0.702871</td>\n",
       "      <td>0.108568</td>\n",
       "      <td>-0.290741</td>\n",
       "      <td>1.259163</td>\n",
       "      <td>-0.416135</td>\n",
       "      <td>-0.188999</td>\n",
       "      <td>0.035113</td>\n",
       "      <td>-1.204213</td>\n",
       "      <td>-0.340700</td>\n",
       "      <td>-0.074844</td>\n",
       "      <td>0.033392</td>\n",
       "    </tr>\n",
       "    <tr>\n",
       "      <th>4</th>\n",
       "      <td>Andorra</td>\n",
       "      <td>WESTERN EUROPE</td>\n",
       "      <td>-0.243720</td>\n",
       "      <td>-0.334629</td>\n",
       "      <td>-0.137002</td>\n",
       "      <td>-0.293443</td>\n",
       "      <td>1.354184</td>\n",
       "      <td>-0.890347</td>\n",
       "      <td>0.932047</td>\n",
       "      <td>0.860282</td>\n",
       "      <td>1.162182</td>\n",
       "      <td>-0.891152</td>\n",
       "      <td>-0.545327</td>\n",
       "      <td>1.004214</td>\n",
       "      <td>1.316360</td>\n",
       "      <td>-1.205379</td>\n",
       "      <td>-0.600755</td>\n",
       "      <td>-0.340700</td>\n",
       "      <td>-0.074844</td>\n",
       "      <td>0.033392</td>\n",
       "    </tr>\n",
       "  </tbody>\n",
       "</table>\n",
       "</div>"
      ],
      "text/plain": [
       "          Country                Region  Population      Area  Pop_density  \\\n",
       "0     Afghanistan  ASIA (EX. NEAR EAST)    0.019695  0.027583    -0.199844   \n",
       "1         Albania        EASTERN EUROPE   -0.213877 -0.318797    -0.153603   \n",
       "2         Algeria       NORTHERN AFRICA    0.035618  0.998421    -0.220490   \n",
       "3  American Samoa               OCEANIA   -0.243834 -0.334779    -0.053514   \n",
       "4         Andorra        WESTERN EUROPE   -0.243720 -0.334629    -0.137002   \n",
       "\n",
       "   Coastline_ratio  Net_migration  Infant_mortality       GDP  Literacy  \\\n",
       "0        -0.293443       4.750798          3.638098 -0.896394 -2.497817   \n",
       "1        -0.275974      -1.025097         -0.392850 -0.516718  0.151933   \n",
       "2        -0.292889      -0.088242         -0.122886 -0.366846 -0.713827   \n",
       "3         0.514709      -4.281389         -0.741696 -0.167016  0.702871   \n",
       "4        -0.293443       1.354184         -0.890347  0.932047  0.860282   \n",
       "\n",
       "   Phones_per_1000    Arable     Crops     Other   Climate  Birthrate  \\\n",
       "0        -1.027491 -0.126361 -0.518861  0.372602 -1.694358   2.212967   \n",
       "1        -0.726079  0.565115 -0.013604 -0.447933  1.316360  -0.627986   \n",
       "2        -0.695494 -0.813978 -0.515252  0.926276 -1.694358  -0.444844   \n",
       "3         0.108568 -0.290741  1.259163 -0.416135 -0.188999   0.035113   \n",
       "4         1.162182 -0.891152 -0.545327  1.004214  1.316360  -1.205379   \n",
       "\n",
       "   Deathrate  Agriculture  Industry   Service  \n",
       "0   2.252507     1.636576 -0.315406 -1.161135  \n",
       "1  -0.809333     0.595163 -0.706318  0.083424  \n",
       "2  -0.932859    -0.326627  2.390911 -1.673969  \n",
       "3  -1.204213    -0.340700 -0.074844  0.033392  \n",
       "4  -0.600755    -0.340700 -0.074844  0.033392  "
      ]
     },
     "execution_count": 43,
     "metadata": {},
     "output_type": "execute_result"
    }
   ],
   "source": [
    "scaled_countries.head()"
   ]
  },
  {
   "cell_type": "markdown",
   "metadata": {},
   "source": [
    "## Questão 4 TODO\n",
    "\n",
    "Aplique o seguinte _pipeline_:\n",
    "\n",
    "1. Preencha as variáveis do tipo `int64` e `float64` com suas respectivas medianas.\n",
    "2. Padronize essas variáveis.\n",
    "\n",
    "Após aplicado o _pipeline_ descrito acima aos dados (somente nas variáveis dos tipos especificados), aplique o mesmo _pipeline_ (ou `ColumnTransformer`) ao dado abaixo. Qual o valor da variável `Arable` após o _pipeline_? Responda como um único float arredondado para três casas decimais."
   ]
  },
  {
   "cell_type": "code",
   "execution_count": 44,
   "metadata": {
    "ExecuteTime": {
     "end_time": "2020-07-22T10:08:51.133578Z",
     "start_time": "2020-07-22T10:08:50.921566Z"
    }
   },
   "outputs": [],
   "source": [
    "test_country = [\n",
    "    'Test Country', 'NEAR EAST', -0.19032480757326514,\n",
    "    -0.3232636124824411, -0.04421734470810142, -0.27528113360605316,\n",
    "    0.13255850810281325, -0.8054845935643491, 1.0119784924248225,\n",
    "    0.6189182532646624, 1.0074863283776458, 0.20239896852403538,\n",
    "    -0.043678728558593366, -0.13929748680369286, 1.3163604645710438,\n",
    "    -0.3699637766938669, -0.6149300604558857, -0.854369594993175,\n",
    "    0.263445277972641, 0.5712416961268142\n",
    "]"
   ]
  },
  {
   "cell_type": "code",
   "execution_count": 45,
   "metadata": {
    "ExecuteTime": {
     "end_time": "2020-07-22T10:08:51.289587Z",
     "start_time": "2020-07-22T10:08:51.136578Z"
    }
   },
   "outputs": [],
   "source": [
    "def Standardize(x,X):\n",
    "    mu = X.mean() \n",
    "    sd = X.std()\n",
    "    z = (x - mu)/sd\n",
    "    return z"
   ]
  },
  {
   "cell_type": "code",
   "execution_count": 46,
   "metadata": {
    "ExecuteTime": {
     "end_time": "2020-07-22T10:08:51.449596Z",
     "start_time": "2020-07-22T10:08:51.292587Z"
    }
   },
   "outputs": [
    {
     "data": {
      "text/plain": [
       "20"
      ]
     },
     "execution_count": 46,
     "metadata": {},
     "output_type": "execute_result"
    }
   ],
   "source": [
    "len(test_country)"
   ]
  },
  {
   "cell_type": "code",
   "execution_count": 47,
   "metadata": {
    "ExecuteTime": {
     "end_time": "2020-07-22T10:08:51.754614Z",
     "start_time": "2020-07-22T10:08:51.452596Z"
    }
   },
   "outputs": [
    {
     "data": {
      "text/plain": [
       "0.202"
      ]
     },
     "execution_count": 47,
     "metadata": {},
     "output_type": "execute_result"
    }
   ],
   "source": [
    "idx = np.zeros(len(test_country))\n",
    "for col in col_int_float_names:\n",
    "    idx[scaled_countries.columns.get_loc(col)] = scaled_countries.columns.get_loc(col)\n",
    "\n",
    "idx_list = [int(ii) for ii in idx if ii>0]\n",
    "\n",
    "scaled_test_country = np.array(test_country)\n",
    "\n",
    "for col in idx_list:\n",
    "    test_country[col] = Standardize(test_country[col], scaled_countries[col_int_float_names[col-2]])\n",
    "    \n",
    "\n",
    "    \n",
    "id_arable = scaled_countries.columns.get_loc('Arable')\n",
    "    \n",
    "test_country[id_arable].round(3)\n"
   ]
  },
  {
   "cell_type": "code",
   "execution_count": 48,
   "metadata": {
    "ExecuteTime": {
     "end_time": "2020-07-22T10:08:51.927624Z",
     "start_time": "2020-07-22T10:08:51.757614Z"
    }
   },
   "outputs": [
    {
     "data": {
      "text/plain": [
       "18"
      ]
     },
     "execution_count": 48,
     "metadata": {},
     "output_type": "execute_result"
    }
   ],
   "source": [
    "len(idx_list)"
   ]
  },
  {
   "cell_type": "code",
   "execution_count": 49,
   "metadata": {
    "ExecuteTime": {
     "end_time": "2020-07-22T10:08:52.150636Z",
     "start_time": "2020-07-22T10:08:51.930624Z"
    }
   },
   "outputs": [
    {
     "data": {
      "text/plain": [
       "[2, 3, 4, 5, 6, 7, 8, 9, 10, 11, 12, 13, 14, 15, 16, 17, 18, 19]"
      ]
     },
     "execution_count": 49,
     "metadata": {},
     "output_type": "execute_result"
    }
   ],
   "source": [
    "idx_list = [int(ii) for ii in idx if ii>0]\n",
    "idx_list"
   ]
  },
  {
   "cell_type": "code",
   "execution_count": 50,
   "metadata": {
    "ExecuteTime": {
     "end_time": "2020-07-22T10:08:52.317646Z",
     "start_time": "2020-07-22T10:08:52.154637Z"
    }
   },
   "outputs": [
    {
     "data": {
      "text/plain": [
       "20"
      ]
     },
     "execution_count": 50,
     "metadata": {},
     "output_type": "execute_result"
    }
   ],
   "source": [
    "len(test_country)"
   ]
  },
  {
   "cell_type": "code",
   "execution_count": 51,
   "metadata": {
    "ExecuteTime": {
     "end_time": "2020-07-22T10:08:52.560660Z",
     "start_time": "2020-07-22T10:08:52.321646Z"
    }
   },
   "outputs": [],
   "source": [
    "def q4():  #-1.047\n",
    "    # Retorne aqui o resultado da questão 4.\n",
    "    pass"
   ]
  },
  {
   "cell_type": "markdown",
   "metadata": {},
   "source": [
    "## Questão 5\n",
    "\n",
    "Descubra o número de _outliers_ da variável `Net_migration` segundo o método do _boxplot_, ou seja, usando a lógica:\n",
    "\n",
    "$$x \\notin [Q1 - 1.5 \\times \\text{IQR}, Q3 + 1.5 \\times \\text{IQR}] \\Rightarrow x \\text{ é outlier}$$\n",
    "\n",
    "que se encontram no grupo inferior e no grupo superior.\n",
    "\n",
    "Você deveria remover da análise as observações consideradas _outliers_ segundo esse método? Responda como uma tupla de três elementos `(outliers_abaixo, outliers_acima, removeria?)` ((int, int, bool))."
   ]
  },
  {
   "cell_type": "code",
   "execution_count": 52,
   "metadata": {
    "ExecuteTime": {
     "end_time": "2020-07-22T10:08:53.552717Z",
     "start_time": "2020-07-22T10:08:52.565660Z"
    }
   },
   "outputs": [
    {
     "data": {
      "text/plain": [
       "<matplotlib.axes._subplots.AxesSubplot at 0x13f26a08>"
      ]
     },
     "execution_count": 52,
     "metadata": {},
     "output_type": "execute_result"
    },
    {
     "data": {
      "image/png": "[encoded data removed]",
      "text/plain": [
       "<Figure size 864x576 with 1 Axes>"
      ]
     },
     "metadata": {},
     "output_type": "display_data"
    },
    {
     "data": {
      "image/png": "[encoded data removed]",
      "text/plain": [
       "<Figure size 864x576 with 1 Axes>"
      ]
     },
     "metadata": {},
     "output_type": "display_data"
    }
   ],
   "source": [
    "statistics = scaled_countries['Net_migration'].describe()\n",
    "Q_1 = statistics['25%']\n",
    "Q_3 = statistics['75%']\n",
    "IQR = Q_3 - Q_1\n",
    "\n",
    "outliers = scaled_countries['Net_migration'].loc[(scaled_countries['Net_migration'] < Q_1 - 1.5 * IQR) \n",
    "                                          | (scaled_countries['Net_migration'] > Q_3 + 1.5 * IQR)]\n",
    "\n",
    "outliers_below = scaled_countries['Net_migration'].loc[(scaled_countries['Net_migration'] < Q_1 - 1.5 * IQR)]\n",
    "\n",
    "outliers_above = scaled_countries['Net_migration'].loc[(scaled_countries['Net_migration'] > Q_3 + 1.5 * IQR)]\n",
    "\n",
    "scaled_countries[['Net_migration']].boxplot()\n",
    "fig = plt.figure()\n",
    "outliers.hist(bins=25)"
   ]
  },
  {
   "cell_type": "markdown",
   "metadata": {},
   "source": [
    "quartile_boxplot e np.quantile apresentam diferenças ..."
   ]
  },
  {
   "cell_type": "code",
   "execution_count": 53,
   "metadata": {
    "ExecuteTime": {
     "end_time": "2020-07-22T10:08:53.565717Z",
     "start_time": "2020-07-22T10:08:53.555717Z"
    }
   },
   "outputs": [],
   "source": [
    "def quartile_boxplot(x):\n",
    "    \n",
    "    X = np.sort(x)\n",
    "    \n",
    "    n = len(X)\n",
    "    median = np.median(X)\n",
    "    \n",
    "    if n % 2 != 0:  # odd\n",
    "        # Median excluded\n",
    "        X_below = X[:n//2]\n",
    "        X_above = X[n//2+1:]\n",
    "        \n",
    "    else:  # even\n",
    "        # Median included\n",
    "        X_below = X[:n//2]\n",
    "        X_above = X[n//2:]\n",
    "        \n",
    "    Q_1 = np.median(X_below)\n",
    "    \n",
    "    \n",
    "    # TODO: investigate differences\n",
    "    # assert(np.allclose(np.quantile(X, 0.25), Q_1))\n",
    "    \n",
    "    Q_3 = np.median(X_above)\n",
    "    \n",
    "    # assert(np.allclose(np.quantile(X, 0.75), Q_3))\n",
    "    \n",
    "    return Q_1, Q_3"
   ]
  },
  {
   "cell_type": "code",
   "execution_count": 54,
   "metadata": {
    "ExecuteTime": {
     "end_time": "2020-07-22T10:08:53.839733Z",
     "start_time": "2020-07-22T10:08:53.568717Z"
    }
   },
   "outputs": [
    {
     "data": {
      "text/plain": [
       "-0.19554698037303636"
      ]
     },
     "execution_count": 54,
     "metadata": {},
     "output_type": "execute_result"
    }
   ],
   "source": [
    "x = scaled_countries['Net_migration'].to_numpy()\n",
    "Q_1, Q_3 = quartile_boxplot(x)\n",
    "Q_1"
   ]
  },
  {
   "cell_type": "code",
   "execution_count": 55,
   "metadata": {
    "ExecuteTime": {
     "end_time": "2020-07-22T10:08:53.992742Z",
     "start_time": "2020-07-22T10:08:53.842733Z"
    }
   },
   "outputs": [
    {
     "data": {
      "text/plain": [
       "-0.19451520210738904"
      ]
     },
     "execution_count": 55,
     "metadata": {},
     "output_type": "execute_result"
    }
   ],
   "source": [
    "np.quantile(x, 0.25)\n"
   ]
  },
  {
   "cell_type": "code",
   "execution_count": 56,
   "metadata": {
    "ExecuteTime": {
     "end_time": "2020-07-22T10:08:54.138750Z",
     "start_time": "2020-07-22T10:08:53.995742Z"
    }
   },
   "outputs": [
    {
     "data": {
      "text/plain": [
       "0.19652876057294746"
      ]
     },
     "execution_count": 56,
     "metadata": {},
     "output_type": "execute_result"
    }
   ],
   "source": [
    "Q_3"
   ]
  },
  {
   "cell_type": "code",
   "execution_count": 57,
   "metadata": {
    "ExecuteTime": {
     "end_time": "2020-07-22T10:08:54.283758Z",
     "start_time": "2020-07-22T10:08:54.141750Z"
    }
   },
   "outputs": [
    {
     "data": {
      "text/plain": [
       "0.1944652040416528"
      ]
     },
     "execution_count": 57,
     "metadata": {},
     "output_type": "execute_result"
    }
   ],
   "source": [
    "np.quantile(x, 0.75)"
   ]
  },
  {
   "cell_type": "code",
   "execution_count": 58,
   "metadata": {
    "ExecuteTime": {
     "end_time": "2020-07-22T10:08:54.445768Z",
     "start_time": "2020-07-22T10:08:54.287759Z"
    }
   },
   "outputs": [
    {
     "data": {
      "text/plain": [
       "count    2.270000e+02\n",
       "mean    -3.912680e-18\n",
       "std      1.002210e+00\n",
       "min     -4.339168e+00\n",
       "25%     -1.945152e-01\n",
       "50%     -7.763336e-03\n",
       "75%      1.944652e-01\n",
       "max      4.750798e+00\n",
       "Name: Net_migration, dtype: float64"
      ]
     },
     "execution_count": 58,
     "metadata": {},
     "output_type": "execute_result"
    }
   ],
   "source": [
    "scaled_countries['Net_migration'].describe()"
   ]
  },
  {
   "cell_type": "code",
   "execution_count": 59,
   "metadata": {
    "ExecuteTime": {
     "end_time": "2020-07-22T10:08:54.659780Z",
     "start_time": "2020-07-22T10:08:54.448768Z"
    }
   },
   "outputs": [],
   "source": [
    "def q5():\n",
    "    # statistics = scaled_countries['Net_migration'].describe()\n",
    "    #Q_1 = statistics['25%']\n",
    "    # Q_3 = statistics['75%']\n",
    "    \n",
    "    # Q_1 = np.quantile(scaled_countries['Net_migration'].to_numpy(), 0.25)\n",
    "    # Q_3 = np.quantile(scaled_countries['Net_migration'].to_numpy(), 0.75)\n",
    "    \n",
    "    Q_1, Q_3 = quartile_boxplot(scaled_countries['Net_migration'].to_numpy())\n",
    "    \n",
    "    IQR = Q_3 - Q_1\n",
    "    \n",
    "    outliers_below = scaled_countries['Net_migration'].loc[(scaled_countries['Net_migration'] < Q_1 - 1.5 * IQR)]\n",
    "\n",
    "    outliers_above = scaled_countries['Net_migration'].loc[(scaled_countries['Net_migration'] > Q_3 + 1.5 * IQR)]\n",
    "\n",
    "    remove = False\n",
    "\n",
    "    return (len(outliers_below), len(outliers_above), remove)"
   ]
  },
  {
   "cell_type": "code",
   "execution_count": 60,
   "metadata": {
    "ExecuteTime": {
     "end_time": "2020-07-22T10:08:54.885793Z",
     "start_time": "2020-07-22T10:08:54.663780Z"
    }
   },
   "outputs": [
    {
     "data": {
      "text/plain": [
       "(24, 26, False)"
      ]
     },
     "execution_count": 60,
     "metadata": {},
     "output_type": "execute_result"
    }
   ],
   "source": [
    "q5()"
   ]
  },
  {
   "cell_type": "markdown",
   "metadata": {},
   "source": [
    "## Questão 6\n",
    "Para as questões 6 e 7 utilize a biblioteca `fetch_20newsgroups` de datasets de test do `sklearn`\n",
    "\n",
    "Considere carregar as seguintes categorias e o dataset `newsgroups`:\n",
    "\n",
    "```\n",
    "categories = ['sci.electronics', 'comp.graphics', 'rec.motorcycles']\n",
    "newsgroup = fetch_20newsgroups(subset=\"train\", categories=categories, shuffle=True, random_state=42)\n",
    "```\n",
    "\n",
    "\n",
    "Aplique `CountVectorizer` ao _data set_ `newsgroups` e descubra o número de vezes que a palavra _phone_ aparece no corpus. Responda como um único escalar."
   ]
  },
  {
   "cell_type": "code",
   "execution_count": 61,
   "metadata": {
    "ExecuteTime": {
     "end_time": "2020-07-22T10:08:55.638836Z",
     "start_time": "2020-07-22T10:08:54.888793Z"
    }
   },
   "outputs": [],
   "source": [
    "from sklearn.datasets import fetch_20newsgroups\n",
    "from sklearn.feature_extraction.text import CountVectorizer, TfidfTransformer, TfidfVectorizer\n",
    "\n",
    "\n",
    "categories = ['sci.electronics', 'comp.graphics', 'rec.motorcycles']\n",
    "newsgroups = fetch_20newsgroups(subset=\"train\", categories=categories, shuffle=True, random_state=42)\n",
    "\n"
   ]
  },
  {
   "cell_type": "code",
   "execution_count": 62,
   "metadata": {
    "ExecuteTime": {
     "end_time": "2020-07-22T10:08:55.648836Z",
     "start_time": "2020-07-22T10:08:55.641836Z"
    }
   },
   "outputs": [],
   "source": [
    "def q6():\n",
    "        \n",
    "    cv = CountVectorizer(vocabulary=['phone'])\n",
    "    phone_count = cv.fit_transform(newsgroups.data).toarray().sum()\n",
    "    \n",
    "    return phone_count"
   ]
  },
  {
   "cell_type": "code",
   "execution_count": 63,
   "metadata": {
    "ExecuteTime": {
     "end_time": "2020-07-22T10:08:56.216869Z",
     "start_time": "2020-07-22T10:08:55.651837Z"
    }
   },
   "outputs": [
    {
     "data": {
      "text/plain": [
       "213"
      ]
     },
     "execution_count": 63,
     "metadata": {},
     "output_type": "execute_result"
    }
   ],
   "source": [
    "q6()"
   ]
  },
  {
   "cell_type": "markdown",
   "metadata": {},
   "source": [
    "## Questão 7\n",
    "\n",
    "Aplique `TfidfVectorizer` ao _data set_ `newsgroups` e descubra o TF-IDF da palavra _phone_. Responda como um único escalar arredondado para três casas decimais."
   ]
  },
  {
   "cell_type": "code",
   "execution_count": 64,
   "metadata": {
    "ExecuteTime": {
     "end_time": "2020-07-22T10:08:56.892908Z",
     "start_time": "2020-07-22T10:08:56.219869Z"
    }
   },
   "outputs": [
    {
     "data": {
      "text/html": [
       "<div>\n",
       "<style scoped>\n",
       "    .dataframe tbody tr th:only-of-type {\n",
       "        vertical-align: middle;\n",
       "    }\n",
       "\n",
       "    .dataframe tbody tr th {\n",
       "        vertical-align: top;\n",
       "    }\n",
       "\n",
       "    .dataframe thead th {\n",
       "        text-align: right;\n",
       "    }\n",
       "</style>\n",
       "<table border=\"1\" class=\"dataframe\">\n",
       "  <thead>\n",
       "    <tr style=\"text-align: right;\">\n",
       "      <th></th>\n",
       "      <th>phone</th>\n",
       "      <th>the</th>\n",
       "    </tr>\n",
       "  </thead>\n",
       "  <tbody>\n",
       "    <tr>\n",
       "      <th>0</th>\n",
       "      <td>0</td>\n",
       "      <td>3</td>\n",
       "    </tr>\n",
       "    <tr>\n",
       "      <th>1</th>\n",
       "      <td>0</td>\n",
       "      <td>9</td>\n",
       "    </tr>\n",
       "    <tr>\n",
       "      <th>2</th>\n",
       "      <td>0</td>\n",
       "      <td>4</td>\n",
       "    </tr>\n",
       "    <tr>\n",
       "      <th>3</th>\n",
       "      <td>0</td>\n",
       "      <td>7</td>\n",
       "    </tr>\n",
       "    <tr>\n",
       "      <th>4</th>\n",
       "      <td>0</td>\n",
       "      <td>29</td>\n",
       "    </tr>\n",
       "  </tbody>\n",
       "</table>\n",
       "</div>"
      ],
      "text/plain": [
       "   phone  the\n",
       "0      0    3\n",
       "1      0    9\n",
       "2      0    4\n",
       "3      0    7\n",
       "4      0   29"
      ]
     },
     "execution_count": 64,
     "metadata": {},
     "output_type": "execute_result"
    }
   ],
   "source": [
    "count_vectorizer = CountVectorizer()\n",
    "newsgroups_counts = count_vectorizer.fit_transform(newsgroups.data)\n",
    "words_idx = sorted([count_vectorizer.vocabulary_.get(f\"{word.lower()}\") for word in\n",
    "                    [u\"the\", u\"phone\"]])\n",
    "\n",
    "pd.DataFrame(newsgroups_counts[:5, words_idx].toarray(), columns=np.array(count_vectorizer.get_feature_names())[words_idx])"
   ]
  },
  {
   "cell_type": "code",
   "execution_count": 65,
   "metadata": {
    "ExecuteTime": {
     "end_time": "2020-07-22T10:08:56.995913Z",
     "start_time": "2020-07-22T10:08:56.895908Z"
    }
   },
   "outputs": [
    {
     "data": {
      "text/html": [
       "<div>\n",
       "<style scoped>\n",
       "    .dataframe tbody tr th:only-of-type {\n",
       "        vertical-align: middle;\n",
       "    }\n",
       "\n",
       "    .dataframe tbody tr th {\n",
       "        vertical-align: top;\n",
       "    }\n",
       "\n",
       "    .dataframe thead th {\n",
       "        text-align: right;\n",
       "    }\n",
       "</style>\n",
       "<table border=\"1\" class=\"dataframe\">\n",
       "  <thead>\n",
       "    <tr style=\"text-align: right;\">\n",
       "      <th></th>\n",
       "      <th>phone</th>\n",
       "      <th>the</th>\n",
       "    </tr>\n",
       "  </thead>\n",
       "  <tbody>\n",
       "    <tr>\n",
       "      <th>0</th>\n",
       "      <td>0.0</td>\n",
       "      <td>0.046781</td>\n",
       "    </tr>\n",
       "    <tr>\n",
       "      <th>1</th>\n",
       "      <td>0.0</td>\n",
       "      <td>0.115974</td>\n",
       "    </tr>\n",
       "    <tr>\n",
       "      <th>2</th>\n",
       "      <td>0.0</td>\n",
       "      <td>0.085958</td>\n",
       "    </tr>\n",
       "    <tr>\n",
       "      <th>3</th>\n",
       "      <td>0.0</td>\n",
       "      <td>0.089300</td>\n",
       "    </tr>\n",
       "    <tr>\n",
       "      <th>4</th>\n",
       "      <td>0.0</td>\n",
       "      <td>0.283052</td>\n",
       "    </tr>\n",
       "  </tbody>\n",
       "</table>\n",
       "</div>"
      ],
      "text/plain": [
       "   phone       the\n",
       "0    0.0  0.046781\n",
       "1    0.0  0.115974\n",
       "2    0.0  0.085958\n",
       "3    0.0  0.089300\n",
       "4    0.0  0.283052"
      ]
     },
     "execution_count": 65,
     "metadata": {},
     "output_type": "execute_result"
    }
   ],
   "source": [
    "tfidf_transformer = TfidfTransformer()\n",
    "\n",
    "tfidf_transformer.fit(newsgroups_counts)\n",
    "\n",
    "newsgroups_tfidf = tfidf_transformer.transform(newsgroups_counts)\n",
    "pd.DataFrame(newsgroups_tfidf[:5, words_idx].toarray(), columns=np.array(count_vectorizer.get_feature_names())[words_idx])"
   ]
  },
  {
   "cell_type": "code",
   "execution_count": 66,
   "metadata": {
    "ExecuteTime": {
     "end_time": "2020-07-22T10:08:58.233984Z",
     "start_time": "2020-07-22T10:08:57.002914Z"
    }
   },
   "outputs": [
    {
     "data": {
      "text/plain": [
       "8.888"
      ]
     },
     "execution_count": 66,
     "metadata": {},
     "output_type": "execute_result"
    }
   ],
   "source": [
    "tfidf_vectorizer = TfidfVectorizer()\n",
    "\n",
    "tfidf_vectorizer.fit(newsgroups.data)\n",
    "\n",
    "newsgroups_tfidf_vectorized = tfidf_vectorizer.transform(newsgroups.data)\n",
    "pd.DataFrame(newsgroups_tfidf_vectorized[:, words_idx].toarray(), \n",
    "             columns=np.array(count_vectorizer.get_feature_names())[words_idx]).sum().loc['phone'].round(3)"
   ]
  },
  {
   "cell_type": "code",
   "execution_count": 67,
   "metadata": {
    "ExecuteTime": {
     "end_time": "2020-07-22T10:08:58.259986Z",
     "start_time": "2020-07-22T10:08:58.250985Z"
    }
   },
   "outputs": [],
   "source": [
    "def q7():\n",
    "    \n",
    "    count_vectorizer = CountVectorizer()\n",
    "    newsgroups_counts = count_vectorizer.fit_transform(newsgroups.data)\n",
    "    \n",
    "    words_idx = sorted([count_vectorizer.vocabulary_.get(f\"{word.lower()}\")\n",
    "                        for word in [u\"the\", u\"phone\"]])\n",
    "\n",
    "    tfidf_vectorizer = TfidfVectorizer()\n",
    "    tfidf_vectorizer.fit(newsgroups.data)\n",
    "    \n",
    "    \n",
    "    newsgroups_tfidf_vectorized = tfidf_vectorizer.transform(newsgroups.data)\n",
    "    phone_tfidf = pd.DataFrame(newsgroups_tfidf_vectorized[:, words_idx].toarray(),\n",
    "                               columns=np.array(count_vectorizer.get_feature_names())[words_idx]).sum().loc['phone'].round(3)\n",
    "    return phone_tfidf\n"
   ]
  },
  {
   "cell_type": "code",
   "execution_count": 68,
   "metadata": {
    "ExecuteTime": {
     "end_time": "2020-07-22T10:09:00.090090Z",
     "start_time": "2020-07-22T10:08:58.270986Z"
    }
   },
   "outputs": [
    {
     "data": {
      "text/plain": [
       "8.888"
      ]
     },
     "execution_count": 68,
     "metadata": {},
     "output_type": "execute_result"
    }
   ],
   "source": [
    "q7()"
   ]
  },
  {
   "cell_type": "code",
   "execution_count": 69,
   "metadata": {
    "ExecuteTime": {
     "end_time": "2020-07-22T10:09:00.103091Z",
     "start_time": "2020-07-22T10:09:00.094091Z"
    }
   },
   "outputs": [],
   "source": [
    "def q7_1():  # NOT WORKING\n",
    "    from sklearn.feature_extraction.text import TfidfTransformer\n",
    "    from sklearn.pipeline import Pipeline\n",
    "    from sklearn.feature_extraction.text import TfidfVectorizer\n",
    "    \n",
    "    pipe = Pipeline([('count', TfidfVectorizer(vocabulary=['phone'])),\n",
    "                  ('tfid', TfidfTransformer())]).fit(newsgroup['data'])\n",
    "    pipe['count'].transform(newsgroup['data']).toarray()\n",
    "    X = pipe['tfid'].idf_\n",
    "       \n",
    "    \n",
    "    return round(X[0], 3)"
   ]
  }
 ],
 "metadata": {
  "kernelspec": {
   "display_name": "Python 3",
   "language": "python",
   "name": "python3"
  },
  "language_info": {
   "codemirror_mode": {
    "name": "ipython",
    "version": 3
   },
   "file_extension": ".py",
   "mimetype": "text/x-python",
   "name": "python",
   "nbconvert_exporter": "python",
   "pygments_lexer": "ipython3",
   "version": "3.7.7"
  },
  "toc": {
   "base_numbering": 1,
   "nav_menu": {},
   "number_sections": true,
   "sideBar": true,
   "skip_h1_title": false,
   "title_cell": "Table of Contents",
   "title_sidebar": "Contents",
   "toc_cell": false,
   "toc_position": {},
   "toc_section_display": true,
   "toc_window_display": false
  },
  "varInspector": {
   "cols": {
    "lenName": 16,
    "lenType": 16,
    "lenVar": 40
   },
   "kernels_config": {
    "python": {
     "delete_cmd_postfix": "",
     "delete_cmd_prefix": "del ",
     "library": "var_list.py",
     "varRefreshCmd": "print(var_dic_list())"
    },
    "r": {
     "delete_cmd_postfix": ") ",
     "delete_cmd_prefix": "rm(",
     "library": "var_list.r",
     "varRefreshCmd": "cat(var_dic_list()) "
    }
   },
   "types_to_exclude": [
    "module",
    "function",
    "builtin_function_or_method",
    "instance",
    "_Feature"
   ],
   "window_display": false
  }
 },
 "nbformat": 4,
 "nbformat_minor": 2
}
